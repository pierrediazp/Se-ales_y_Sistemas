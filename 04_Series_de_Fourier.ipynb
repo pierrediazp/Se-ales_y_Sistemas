{
 "cells": [
  {
   "cell_type": "code",
   "execution_count": 1,
   "metadata": {},
   "outputs": [
    {
     "data": {
      "text/plain": [
       "'1.11.1'"
      ]
     },
     "execution_count": 1,
     "metadata": {},
     "output_type": "execute_result"
    }
   ],
   "source": [
    "# !pip install pandas\n",
    "import sympy as sym\n",
    "import numpy as np\n",
    "import pandas as pd\n",
    "import matplotlib.pyplot as plt\n",
    "\n",
    "%matplotlib inline\n",
    "\n",
    "sym.init_printing()\n",
    "sym.__version__\n"
   ]
  },
  {
   "cell_type": "markdown",
   "metadata": {},
   "source": [
    "## Correlación\n",
    "\n",
    "\n",
    "La correlación entre las señales $f(t)$ y $g(t)$ es una operación que indica cuán parecidas son las dos señales entre sí.\n",
    "\n",
    "\\begin{equation}\n",
    "(f \\; \\circ \\; g)(\\tau) = h(\\tau) = \\int_{-\\infty}^{\\infty} f(t) \\cdot g(t + \\tau) \\; dt\n",
    "\\end{equation}\n",
    "\n",
    "Observe que la correlación y la convolución tienen estructura similares.\n",
    "\n",
    "\\begin{equation}\n",
    "f(t) * g(t) = \\int_{-\\infty}^{\\infty} f(\\tau) \\cdot g(t - \\tau) \\; d\\tau\n",
    "\\end{equation}"
   ]
  },
  {
   "cell_type": "markdown",
   "metadata": {},
   "source": [
    "## Señales periódicas\n",
    "\n",
    "La señal $y(t)$ es periódica si cumple con la condición $y(t+nT)=y(t)$ para todo $n$ entero. En este caso, $T$ es el periodo de la señal.\n",
    " \n",
    "![SENO](figuras/grafica_seno.PNG)\n",
    "\n",
    "La señal seno es la oscilación más pura que se puede expresar matemáticamente. Esta señal surge al considerar la proyección de un movimiento circular uniforme.\n",
    "\n"
   ]
  },
  {
   "cell_type": "markdown",
   "metadata": {},
   "source": [
    "## Serie de Fourier\n",
    "\n",
    "\n",
    "Si se combinan apropiadamente un conjunto de oscilaciones puras, como combinaciones lineales de señales desplazadas y escaladas en tiempo y amplitud, podría recrearse cualquiér señal periódica. Esta idea da lugar a las series de Fourier.\n",
    "\n",
    "\\begin{equation}\n",
    "y(t) = \\sum_{n=0}^{\\infty} C_n \\cdot cos(n \\omega_0 t - \\phi_n)\n",
    "\\end{equation}\n",
    "\n",
    "La señal $y(t)$ es igual a una combinación de infinitas señales coseno, cada una con una amplitud $C_n$, una frecuencia $n \\omega_0$ y un desfase $\\phi_n$.\n"
   ]
  },
  {
   "cell_type": "markdown",
   "metadata": {},
   "source": [
    "También puede expresarse como:\n",
    "\n",
    "\\begin{equation}\n",
    "y(t) = \\sum_{n=0}^{\\infty} A_n \\cdot cos(n \\omega_0 t) + B_n \\cdot sin(n \\omega_0 t)  \n",
    "\\end{equation}\n",
    "\n",
    "La serie queda definida si se encuentran los valores apropiados de $A_n$ y $B_n$ para todos los valores de $n$.\n",
    "\n",
    "Observe que:\n",
    "- $A_n$ debe ser más grande si $y(t)$ se \"parece\" más a un cos.\n",
    "- $B_n$ debe ser más grande si $y(t)$ se \"parece\" más a un sin."
   ]
  },
  {
   "cell_type": "markdown",
   "metadata": {},
   "source": [
    "\\begin{equation}\n",
    "y(t) = \\sum_{n=0}^{\\infty} A_n \\cdot cos(n \\omega_0 t) + B_n \\cdot sin(n \\omega_0 t)  \n",
    "\\end{equation}\n",
    "\n",
    "\\begin{equation}\n",
    "(f \\; \\circ \\; g)(\\tau) = \\int_{-\\infty}^{\\infty} f(t) \\cdot g(t + \\tau) \\; dt\n",
    "\\end{equation}\n",
    "\n",
    "\\begin{equation}\n",
    "(y \\; \\circ \\; sin_n)(\\tau) = \\int_{-\\infty}^{\\infty} y(t) \\cdot sin(n \\omega_0(t + \\tau)) \\; dt\n",
    "\\end{equation}\n",
    "\n"
   ]
  },
  {
   "cell_type": "markdown",
   "metadata": {},
   "source": [
    "Considerando:\n",
    "- $\\tau=0$ para no incluir desfases.\n",
    "- la señal $y(t)$ es periódica con periodo $T$.\n",
    "\n",
    "\\begin{equation}\n",
    "(y \\; \\circ \\; sin_n)(0) = \\frac{1}{T} \\int_{0}^{T} y(t) \\cdot sin(n \\omega_0 t) \\; dt\n",
    "\\end{equation}\n",
    "\n",
    "Esta expresión puede interpretarse como el parecido de una señal $y(t)$ a la señal $sin$ con crecuencia $n \\omega_0$ promediado a lo largo de un periodo sin desfase del seno."
   ]
  },
  {
   "cell_type": "markdown",
   "metadata": {},
   "source": [
    "Retomando la idea inicial\n",
    "\n",
    "\\begin{equation}\n",
    "y(t) = \\sum_{n=0}^{\\infty} A_n \\cdot cos(n \\omega_0 t) + B_n \\cdot sin(n \\omega_0 t)  \n",
    "\\end{equation}\n",
    "\n",
    "donde\n",
    "\\begin{equation}\n",
    "A_n = \\frac{1}{T} \\int_{0}^{T} y(t) \\cdot cos(n \\omega_0 t) \\; dt\n",
    "\\end{equation}\n",
    "\n",
    "\\begin{equation}\n",
    "B_n = \\frac{1}{T} \\int_{0}^{T} y(t) \\cdot sin(n \\omega_0 t) \\; dt\n",
    "\\end{equation}"
   ]
  },
  {
   "cell_type": "markdown",
   "metadata": {},
   "source": [
    "Se recomienda al estudiante que encuentre la relación entre las Series anteriores y la siguiente alternativa para representar la Series de Fourier.\n",
    "\n",
    "\\begin{equation}\n",
    "y(t) = \\sum_{n=-\\infty}^{\\infty} C_n \\cdot e^{j n \\omega_0 t}\n",
    "\\end{equation}\n",
    "\n",
    "donde \n",
    "\n",
    "\\begin{equation}\n",
    "C_n = \\frac{1}{T} \\int_{0}^{T} y(t) \\cdot e^{-j n \\omega_0 t} \\; dt\n",
    "\\end{equation}"
   ]
  },
  {
   "cell_type": "markdown",
   "metadata": {},
   "source": [
    "Los valores $C_n$ son el espectro de la señal periódica $y(t)$ y son una representación en el dominio de la frecuencia."
   ]
  },
  {
   "cell_type": "markdown",
   "metadata": {},
   "source": [
    "**Ejemplo # 1**\n",
    "\n",
    "La señal $y(t) = sin(2 \\pi t)$ es en sí misma una oscilación pura de periodo $T=1$. "
   ]
  },
  {
   "cell_type": "code",
   "execution_count": 70,
   "metadata": {},
   "outputs": [
    {
     "data": {
      "image/png": "[encoded data removed]",
      "text/latex": [
       "$\\displaystyle \\left(t - 0.5\\right)^{2}$"
      ],
      "text/plain": [
       "         2\n",
       "(t - 0.5) "
      ]
     },
     "execution_count": 70,
     "metadata": {},
     "output_type": "execute_result"
    }
   ],
   "source": [
    "# Se define y como el seno de t\n",
    "t = sym.symbols('t', real=True)\n",
    "#T = sym.symbols('T', real=True)\n",
    "T = 0.3\n",
    "n = sym.symbols('n', real=True)\n",
    "# delta = sym.DiracDelta(nw)\n",
    "w0 = 2 * sym.pi / T\n",
    "\n",
    "# y = t**2\n",
    "# y = 4*sym.sin(w0*t + 0.5) - 10\n",
    "# y = sym.sin(w0*t)\n",
    "y = (t-0.5)*(t-0.5)\n",
    "# y = 2.5*sym.sin(w0*t ) \n",
    "# y = 2.5*(sym.sin(w0*t))**2 + (sym.sin(7.5*w0*t))**2 \n",
    "y \n"
   ]
  },
  {
   "cell_type": "markdown",
   "metadata": {},
   "source": [
    "Aunque la sumatoria de las series de Fourier incluye infinitos términos, solamente se tomaran las primeras 3 componentes."
   ]
  },
  {
   "cell_type": "code",
   "execution_count": 71,
   "metadata": {},
   "outputs": [
    {
     "data": {
      "image/png": "[encoded data removed]",
      "text/latex": [
       "$\\displaystyle \\left(t - 0.5\\right)^{2} e^{- 6.66666666666667 i \\pi n t}$"
      ],
      "text/plain": [
       "         2  -6.66666666666667⋅ⅈ⋅π⋅n⋅t\n",
       "(t - 0.5) ⋅ℯ                         "
      ]
     },
     "execution_count": 71,
     "metadata": {},
     "output_type": "execute_result"
    }
   ],
   "source": [
    "y*sym.exp(-1j*n*w0*t)"
   ]
  },
  {
   "cell_type": "code",
   "execution_count": 72,
   "metadata": {},
   "outputs": [
    {
     "data": {
      "text/latex": [
       "$\\displaystyle 3.33333333333333 \\left(\\begin{cases} \\frac{1.0 \\left(- 0.0375 i \\pi^{2} n^{2} + 0.0225 \\pi n + 0.00675 i\\right)}{\\pi^{3} n^{3}} - \\frac{1.0 \\left(- 0.006 i \\pi^{2} n^{2} + 0.009 \\pi n + 0.00675 i\\right) e^{- 2.0 i \\pi n}}{\\pi^{3} n^{3}} & \\text{for}\\: n \\neq 0 \\\\0.039 & \\text{otherwise} \\end{cases}\\right)$"
      ],
      "text/plain": [
       "                 ⎛⎧    ⎛            2  2                         ⎞   ⎛        \n",
       "                 ⎜⎪1.0⋅⎝- 0.0375⋅ⅈ⋅π ⋅n  + 0.0225⋅π⋅n + 0.00675⋅ⅈ⎠   ⎝- 0.006⋅\n",
       "                 ⎜⎪─────────────────────────────────────────────── - ─────────\n",
       "3.33333333333333⋅⎜⎨                      3  3                                 \n",
       "                 ⎜⎪                     π ⋅n                                  \n",
       "                 ⎜⎪                                                           \n",
       "                 ⎝⎩                                                 0.039     \n",
       "\n",
       "   2  2                        ⎞  -2.0⋅ⅈ⋅π⋅n           ⎞\n",
       "ⅈ⋅π ⋅n  + 0.009⋅π⋅n + 0.00675⋅ⅈ⎠⋅ℯ                     ⎟\n",
       "────────────────────────────────────────────  for n ≠ 0⎟\n",
       "                3  3                                   ⎟\n",
       "               π ⋅n                                    ⎟\n",
       "                                                       ⎟\n",
       "                                              otherwise⎠"
      ]
     },
     "execution_count": 72,
     "metadata": {},
     "output_type": "execute_result"
    }
   ],
   "source": [
    "sym.integrate(y*sym.exp(-1j*n*w0*t),(t,0,T))*(1/T)"
   ]
  },
  {
   "cell_type": "code",
   "execution_count": 73,
   "metadata": {},
   "outputs": [
    {
     "data": {
      "image/png": "[encoded data removed]",
      "text/latex": [
       "$\\displaystyle 0.000182378130556208 - 0.0066845076098596 i$"
      ],
      "text/plain": [
       "0.000182378130556208 - 0.0066845076098596⋅ⅈ"
      ]
     },
     "execution_count": 73,
     "metadata": {},
     "output_type": "execute_result"
    }
   ],
   "source": [
    "n = 5\n",
    "(1/T)*sym.integrate(y*sym.exp(-1j*n*w0*t), (t,0,T)).evalf()"
   ]
  },
  {
   "cell_type": "code",
   "execution_count": 74,
   "metadata": {},
   "outputs": [],
   "source": [
    "n_max = 10\n",
    "y_ser = 0\n",
    "C = 0\n",
    "ns = range(-n_max,n_max+1)\n",
    "espectro = pd.DataFrame(index = ns,\n",
    "                        columns= ['n','w','C','C_real','C_imag','C_Abs','C_Arg'])\n",
    "\n",
    "for n in espectro.index:\n",
    "    C_n = (1/T)*sym.integrate(y*sym.exp(-1j*n*w0*t), (t,0,T)).evalf()\n",
    "    y_ser = y_ser + C_n*sym.exp(1j*n*w0*t)\n",
    "    espectro['C'][n]=C_n\n",
    "    C_r = float(sym.re(C_n))\n",
    "    C_i = float(sym.im(C_n))\n",
    "    C_Abs = float(sym.Abs(C_n))\n",
    "    C_Arg = float(sym.arg(C_n))\n",
    "    espectro['n'][n] = n\n",
    "    espectro['w'][n] = n*w0\n",
    "    espectro['C_real'][n] = C_r\n",
    "    espectro['C_imag'][n] = C_i\n",
    "    espectro['C_Abs'][n] = C_Abs\n",
    "    espectro['C_Arg'][n] = C_Arg\n"
   ]
  },
  {
   "cell_type": "code",
   "execution_count": 75,
   "metadata": {},
   "outputs": [
    {
     "data": {
      "text/html": [
       "<div>\n",
       "<style scoped>\n",
       "    .dataframe tbody tr th:only-of-type {\n",
       "        vertical-align: middle;\n",
       "    }\n",
       "\n",
       "    .dataframe tbody tr th {\n",
       "        vertical-align: top;\n",
       "    }\n",
       "\n",
       "    .dataframe thead th {\n",
       "        text-align: right;\n",
       "    }\n",
       "</style>\n",
       "<table border=\"1\" class=\"dataframe\">\n",
       "  <thead>\n",
       "    <tr style=\"text-align: right;\">\n",
       "      <th></th>\n",
       "      <th>n</th>\n",
       "      <th>w</th>\n",
       "      <th>C</th>\n",
       "      <th>C_real</th>\n",
       "      <th>C_imag</th>\n",
       "      <th>C_Abs</th>\n",
       "      <th>C_Arg</th>\n",
       "    </tr>\n",
       "  </thead>\n",
       "  <tbody>\n",
       "    <tr>\n",
       "      <th>-10</th>\n",
       "      <td>-10</td>\n",
       "      <td>-66.6666666666667*pi</td>\n",
       "      <td>4.5594532639052e-5 + 0.0033422538049298*I</td>\n",
       "      <td>0.000046</td>\n",
       "      <td>0.003342</td>\n",
       "      <td>0.003343</td>\n",
       "      <td>1.557155</td>\n",
       "    </tr>\n",
       "    <tr>\n",
       "      <th>-9</th>\n",
       "      <td>-9</td>\n",
       "      <td>-60.0*pi</td>\n",
       "      <td>5.62895464679654e-5 + 0.00371361533881089*I</td>\n",
       "      <td>0.000056</td>\n",
       "      <td>0.003714</td>\n",
       "      <td>0.003714</td>\n",
       "      <td>1.55564</td>\n",
       "    </tr>\n",
       "    <tr>\n",
       "      <th>-8</th>\n",
       "      <td>-8</td>\n",
       "      <td>-53.3333333333333*pi</td>\n",
       "      <td>7.12414572485188e-5 + 0.00417781725616225*I</td>\n",
       "      <td>0.000071</td>\n",
       "      <td>0.004178</td>\n",
       "      <td>0.004178</td>\n",
       "      <td>1.553746</td>\n",
       "    </tr>\n",
       "    <tr>\n",
       "      <th>-7</th>\n",
       "      <td>-7</td>\n",
       "      <td>-46.6666666666667*pi</td>\n",
       "      <td>9.30500666103152e-5 + 0.00477464829275686*I</td>\n",
       "      <td>0.000093</td>\n",
       "      <td>0.004775</td>\n",
       "      <td>0.004776</td>\n",
       "      <td>1.55131</td>\n",
       "    </tr>\n",
       "    <tr>\n",
       "      <th>-6</th>\n",
       "      <td>-6</td>\n",
       "      <td>-40.0*pi</td>\n",
       "      <td>0.000126651479552922 + 0.00557042300821634*I</td>\n",
       "      <td>0.000127</td>\n",
       "      <td>0.00557</td>\n",
       "      <td>0.005572</td>\n",
       "      <td>1.548064</td>\n",
       "    </tr>\n",
       "    <tr>\n",
       "      <th>-5</th>\n",
       "      <td>-5</td>\n",
       "      <td>-33.3333333333333*pi</td>\n",
       "      <td>0.000182378130556208 + 0.0066845076098596*I</td>\n",
       "      <td>0.000182</td>\n",
       "      <td>0.006685</td>\n",
       "      <td>0.006687</td>\n",
       "      <td>1.543519</td>\n",
       "    </tr>\n",
       "    <tr>\n",
       "      <th>-4</th>\n",
       "      <td>-4</td>\n",
       "      <td>-26.6666666666667*pi</td>\n",
       "      <td>0.000284965828994075 + 0.00835563451232451*I</td>\n",
       "      <td>0.000285</td>\n",
       "      <td>0.008356</td>\n",
       "      <td>0.00836</td>\n",
       "      <td>1.536705</td>\n",
       "    </tr>\n",
       "    <tr>\n",
       "      <th>-3</th>\n",
       "      <td>-3</td>\n",
       "      <td>-20.0*pi</td>\n",
       "      <td>0.000506605918211689 + 0.0111408460164327*I</td>\n",
       "      <td>0.000507</td>\n",
       "      <td>0.011141</td>\n",
       "      <td>0.011152</td>\n",
       "      <td>1.525355</td>\n",
       "    </tr>\n",
       "    <tr>\n",
       "      <th>-2</th>\n",
       "      <td>-2</td>\n",
       "      <td>-13.3333333333333*pi</td>\n",
       "      <td>0.0011398633159763 + 0.016711269024649*I</td>\n",
       "      <td>0.00114</td>\n",
       "      <td>0.016711</td>\n",
       "      <td>0.01675</td>\n",
       "      <td>1.502693</td>\n",
       "    </tr>\n",
       "    <tr>\n",
       "      <th>-1</th>\n",
       "      <td>-1</td>\n",
       "      <td>-6.66666666666667*pi</td>\n",
       "      <td>0.0045594532639052 + 0.033422538049298*I</td>\n",
       "      <td>0.004559</td>\n",
       "      <td>0.033423</td>\n",
       "      <td>0.033732</td>\n",
       "      <td>1.435215</td>\n",
       "    </tr>\n",
       "    <tr>\n",
       "      <th>0</th>\n",
       "      <td>0</td>\n",
       "      <td>0</td>\n",
       "      <td>0.130000000000000</td>\n",
       "      <td>0.13</td>\n",
       "      <td>0.0</td>\n",
       "      <td>0.13</td>\n",
       "      <td>0.0</td>\n",
       "    </tr>\n",
       "    <tr>\n",
       "      <th>1</th>\n",
       "      <td>1</td>\n",
       "      <td>6.66666666666667*pi</td>\n",
       "      <td>0.0045594532639052 - 0.033422538049298*I</td>\n",
       "      <td>0.004559</td>\n",
       "      <td>-0.033423</td>\n",
       "      <td>0.033732</td>\n",
       "      <td>-1.435215</td>\n",
       "    </tr>\n",
       "    <tr>\n",
       "      <th>2</th>\n",
       "      <td>2</td>\n",
       "      <td>13.3333333333333*pi</td>\n",
       "      <td>0.0011398633159763 - 0.016711269024649*I</td>\n",
       "      <td>0.00114</td>\n",
       "      <td>-0.016711</td>\n",
       "      <td>0.01675</td>\n",
       "      <td>-1.502693</td>\n",
       "    </tr>\n",
       "    <tr>\n",
       "      <th>3</th>\n",
       "      <td>3</td>\n",
       "      <td>20.0*pi</td>\n",
       "      <td>0.000506605918211689 - 0.0111408460164327*I</td>\n",
       "      <td>0.000507</td>\n",
       "      <td>-0.011141</td>\n",
       "      <td>0.011152</td>\n",
       "      <td>-1.525355</td>\n",
       "    </tr>\n",
       "    <tr>\n",
       "      <th>4</th>\n",
       "      <td>4</td>\n",
       "      <td>26.6666666666667*pi</td>\n",
       "      <td>0.000284965828994075 - 0.00835563451232451*I</td>\n",
       "      <td>0.000285</td>\n",
       "      <td>-0.008356</td>\n",
       "      <td>0.00836</td>\n",
       "      <td>-1.536705</td>\n",
       "    </tr>\n",
       "    <tr>\n",
       "      <th>5</th>\n",
       "      <td>5</td>\n",
       "      <td>33.3333333333333*pi</td>\n",
       "      <td>0.000182378130556208 - 0.0066845076098596*I</td>\n",
       "      <td>0.000182</td>\n",
       "      <td>-0.006685</td>\n",
       "      <td>0.006687</td>\n",
       "      <td>-1.543519</td>\n",
       "    </tr>\n",
       "    <tr>\n",
       "      <th>6</th>\n",
       "      <td>6</td>\n",
       "      <td>40.0*pi</td>\n",
       "      <td>0.000126651479552922 - 0.00557042300821634*I</td>\n",
       "      <td>0.000127</td>\n",
       "      <td>-0.00557</td>\n",
       "      <td>0.005572</td>\n",
       "      <td>-1.548064</td>\n",
       "    </tr>\n",
       "    <tr>\n",
       "      <th>7</th>\n",
       "      <td>7</td>\n",
       "      <td>46.6666666666667*pi</td>\n",
       "      <td>9.30500666103152e-5 - 0.00477464829275686*I</td>\n",
       "      <td>0.000093</td>\n",
       "      <td>-0.004775</td>\n",
       "      <td>0.004776</td>\n",
       "      <td>-1.55131</td>\n",
       "    </tr>\n",
       "    <tr>\n",
       "      <th>8</th>\n",
       "      <td>8</td>\n",
       "      <td>53.3333333333333*pi</td>\n",
       "      <td>7.12414572485188e-5 - 0.00417781725616225*I</td>\n",
       "      <td>0.000071</td>\n",
       "      <td>-0.004178</td>\n",
       "      <td>0.004178</td>\n",
       "      <td>-1.553746</td>\n",
       "    </tr>\n",
       "    <tr>\n",
       "      <th>9</th>\n",
       "      <td>9</td>\n",
       "      <td>60.0*pi</td>\n",
       "      <td>5.62895464679654e-5 - 0.00371361533881089*I</td>\n",
       "      <td>0.000056</td>\n",
       "      <td>-0.003714</td>\n",
       "      <td>0.003714</td>\n",
       "      <td>-1.55564</td>\n",
       "    </tr>\n",
       "    <tr>\n",
       "      <th>10</th>\n",
       "      <td>10</td>\n",
       "      <td>66.6666666666667*pi</td>\n",
       "      <td>4.5594532639052e-5 - 0.0033422538049298*I</td>\n",
       "      <td>0.000046</td>\n",
       "      <td>-0.003342</td>\n",
       "      <td>0.003343</td>\n",
       "      <td>-1.557155</td>\n",
       "    </tr>\n",
       "  </tbody>\n",
       "</table>\n",
       "</div>"
      ],
      "text/plain": [
       "       n                     w                                             C  \\\n",
       "-10  -10  -66.6666666666667*pi     4.5594532639052e-5 + 0.0033422538049298*I   \n",
       "-9    -9              -60.0*pi   5.62895464679654e-5 + 0.00371361533881089*I   \n",
       "-8    -8  -53.3333333333333*pi   7.12414572485188e-5 + 0.00417781725616225*I   \n",
       "-7    -7  -46.6666666666667*pi   9.30500666103152e-5 + 0.00477464829275686*I   \n",
       "-6    -6              -40.0*pi  0.000126651479552922 + 0.00557042300821634*I   \n",
       "-5    -5  -33.3333333333333*pi   0.000182378130556208 + 0.0066845076098596*I   \n",
       "-4    -4  -26.6666666666667*pi  0.000284965828994075 + 0.00835563451232451*I   \n",
       "-3    -3              -20.0*pi   0.000506605918211689 + 0.0111408460164327*I   \n",
       "-2    -2  -13.3333333333333*pi      0.0011398633159763 + 0.016711269024649*I   \n",
       "-1    -1  -6.66666666666667*pi      0.0045594532639052 + 0.033422538049298*I   \n",
       "0      0                     0                             0.130000000000000   \n",
       "1      1   6.66666666666667*pi      0.0045594532639052 - 0.033422538049298*I   \n",
       "2      2   13.3333333333333*pi      0.0011398633159763 - 0.016711269024649*I   \n",
       "3      3               20.0*pi   0.000506605918211689 - 0.0111408460164327*I   \n",
       "4      4   26.6666666666667*pi  0.000284965828994075 - 0.00835563451232451*I   \n",
       "5      5   33.3333333333333*pi   0.000182378130556208 - 0.0066845076098596*I   \n",
       "6      6               40.0*pi  0.000126651479552922 - 0.00557042300821634*I   \n",
       "7      7   46.6666666666667*pi   9.30500666103152e-5 - 0.00477464829275686*I   \n",
       "8      8   53.3333333333333*pi   7.12414572485188e-5 - 0.00417781725616225*I   \n",
       "9      9               60.0*pi   5.62895464679654e-5 - 0.00371361533881089*I   \n",
       "10    10   66.6666666666667*pi     4.5594532639052e-5 - 0.0033422538049298*I   \n",
       "\n",
       "       C_real    C_imag     C_Abs     C_Arg  \n",
       "-10  0.000046  0.003342  0.003343  1.557155  \n",
       "-9   0.000056  0.003714  0.003714   1.55564  \n",
       "-8   0.000071  0.004178  0.004178  1.553746  \n",
       "-7   0.000093  0.004775  0.004776   1.55131  \n",
       "-6   0.000127   0.00557  0.005572  1.548064  \n",
       "-5   0.000182  0.006685  0.006687  1.543519  \n",
       "-4   0.000285  0.008356   0.00836  1.536705  \n",
       "-3   0.000507  0.011141  0.011152  1.525355  \n",
       "-2    0.00114  0.016711   0.01675  1.502693  \n",
       "-1   0.004559  0.033423  0.033732  1.435215  \n",
       "0        0.13       0.0      0.13       0.0  \n",
       "1    0.004559 -0.033423  0.033732 -1.435215  \n",
       "2     0.00114 -0.016711   0.01675 -1.502693  \n",
       "3    0.000507 -0.011141  0.011152 -1.525355  \n",
       "4    0.000285 -0.008356   0.00836 -1.536705  \n",
       "5    0.000182 -0.006685  0.006687 -1.543519  \n",
       "6    0.000127  -0.00557  0.005572 -1.548064  \n",
       "7    0.000093 -0.004775  0.004776  -1.55131  \n",
       "8    0.000071 -0.004178  0.004178 -1.553746  \n",
       "9    0.000056 -0.003714  0.003714  -1.55564  \n",
       "10   0.000046 -0.003342  0.003343 -1.557155  "
      ]
     },
     "execution_count": 75,
     "metadata": {},
     "output_type": "execute_result"
    }
   ],
   "source": [
    "espectro"
   ]
  },
  {
   "cell_type": "markdown",
   "metadata": {},
   "source": [
    "La señal reconstruida con un **n_max** componentes"
   ]
  },
  {
   "cell_type": "code",
   "execution_count": 76,
   "metadata": {},
   "outputs": [
    {
     "data": {
      "image/png": "[encoded data removed]",
      "text/plain": [
       "<Figure size 700x200 with 1 Axes>"
      ]
     },
     "metadata": {},
     "output_type": "display_data"
    }
   ],
   "source": [
    "plt.rcParams['figure.figsize'] = 7, 2\n",
    "#g1 = sym.plot(y, (t,0,1), ylabel=r'Amp',show=False,line_color='blue',legend=True, label = 'y(t) original')\n",
    "#g2 = sym.plot(sym.re(y_ser), (t,-1,2), ylabel=r'Amp',show=False,line_color='red',legend=True, label = 'y(t) reconstruida')\n",
    "g1 = sym.plot(y, (t,0,T), ylabel=r'Amp',show=False,line_color='blue')\n",
    "g2 = sym.plot(sym.re(y_ser), (t,0,3*T), ylabel=r'Amp',show=False,line_color='red')\n",
    "\n",
    "g1.extend(g2)\n",
    "g1.show()"
   ]
  },
  {
   "cell_type": "code",
   "execution_count": 80,
   "metadata": {},
   "outputs": [
    {
     "data": {
      "image/png": "[encoded data removed]",
      "text/latex": [
       "$\\displaystyle \\left( -1.0, \\  11.0\\right)$"
      ],
      "text/plain": [
       "(-1.0, 11.0)"
      ]
     },
     "execution_count": 80,
     "metadata": {},
     "output_type": "execute_result"
    },
    {
     "data": {
      "image/png": "[encoded data removed]",
      "text/plain": [
       "<Figure size 1200x300 with 1 Axes>"
      ]
     },
     "metadata": {},
     "output_type": "display_data"
    }
   ],
   "source": [
    "plt.rcParams['figure.figsize'] = 12, 3\n",
    "plt.stem(espectro['n'],espectro['C_Abs'])\n",
    "plt.xlim([-1,n_max+1])"
   ]
  },
  {
   "cell_type": "code",
   "execution_count": 65,
   "metadata": {},
   "outputs": [
    {
     "data": {
      "image/png": "[encoded data removed]",
      "text/latex": [
       "$\\displaystyle 2.5 \\sin{\\left(6.66666666666667 \\pi t \\right)}$"
      ],
      "text/plain": [
       "2.5⋅sin(6.66666666666667⋅π⋅t)"
      ]
     },
     "execution_count": 65,
     "metadata": {},
     "output_type": "execute_result"
    }
   ],
   "source": [
    "y"
   ]
  },
  {
   "cell_type": "code",
   "execution_count": 78,
   "metadata": {},
   "outputs": [
    {
     "data": {
      "text/plain": [
       "<StemContainer object of 3 artists>"
      ]
     },
     "execution_count": 78,
     "metadata": {},
     "output_type": "execute_result"
    },
    {
     "data": {
      "image/png": "[encoded data removed]",
      "text/plain": [
       "<Figure size 1200x300 with 1 Axes>"
      ]
     },
     "metadata": {},
     "output_type": "display_data"
    }
   ],
   "source": [
    "plt.rcParams['figure.figsize'] = 12, 3\n",
    "plt.stem(espectro['n'],espectro['C_Arg'])"
   ]
  },
  {
   "cell_type": "markdown",
   "metadata": {},
   "source": [
    "**Ejercicio**\n",
    "\n",
    "Use las siguientes funciones para definir un periodo de una señal periódica con periodo $T=1$:\n",
    "\n",
    "\\begin{equation}\n",
    "y_1(t) = \\begin{cases}\n",
    "-1 &  0 \\leq t < 0.5 \\\\\n",
    "1 &  0.5 \\leq t < 1 \n",
    "\\end{cases}\n",
    "\\end{equation}\n",
    "\n",
    "\n",
    "\\begin{equation}\n",
    "y_2(t) = t\n",
    "\\end{equation}\n",
    "\n",
    "\\begin{equation}\n",
    "y_3(t) = 3 sin(2 \\pi t)\n",
    "\\end{equation}\n",
    "\n",
    "Varíe la cantidad de componentes que reconstruyen cada función y analice la reconstrucción obtenida y los valores de $C_n$"
   ]
  },
  {
   "cell_type": "code",
   "execution_count": null,
   "metadata": {},
   "outputs": [],
   "source": [
    "pd.__version__"
   ]
  },
  {
   "cell_type": "code",
   "execution_count": null,
   "metadata": {},
   "outputs": [],
   "source": []
  }
 ],
 "metadata": {
  "kernelspec": {
   "display_name": "Python 3 (ipykernel)",
   "language": "python",
   "name": "python3"
  },
  "language_info": {
   "codemirror_mode": {
    "name": "ipython",
    "version": 3
   },
   "file_extension": ".py",
   "mimetype": "text/x-python",
   "name": "python",
   "nbconvert_exporter": "python",
   "pygments_lexer": "ipython3",
   "version": "3.10.9"
  },
  "latex_envs": {
   "LaTeX_envs_menu_present": true,
   "autoclose": false,
   "autocomplete": true,
   "bibliofile": "biblio.bib",
   "cite_by": "apalike",
   "current_citInitial": 1,
   "eqLabelWithNumbers": true,
   "eqNumInitial": 0,
   "hotkeys": {
    "equation": "Ctrl-E",
    "itemize": "Ctrl-I"
   },
   "labels_anchors": false,
   "latex_user_defs": false,
   "report_style_numbering": false,
   "user_envs_cfg": false
  },
  "varInspector": {
   "cols": {
    "lenName": 16,
    "lenType": 16,
    "lenVar": 40
   },
   "kernels_config": {
    "python": {
     "delete_cmd_postfix": "",
     "delete_cmd_prefix": "del ",
     "library": "var_list.py",
     "varRefreshCmd": "print(var_dic_list())"
    },
    "r": {
     "delete_cmd_postfix": ") ",
     "delete_cmd_prefix": "rm(",
     "library": "var_list.r",
     "varRefreshCmd": "cat(var_dic_list()) "
    }
   },
   "types_to_exclude": [
    "module",
    "function",
    "builtin_function_or_method",
    "instance",
    "_Feature"
   ],
   "window_display": false
  }
 },
 "nbformat": 4,
 "nbformat_minor": 4
}
