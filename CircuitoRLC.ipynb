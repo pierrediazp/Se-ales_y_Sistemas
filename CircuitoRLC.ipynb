{
 "cells": [
  {
   "cell_type": "markdown",
   "id": "9eeb6902",
   "metadata": {},
   "source": [
    "# Modelo dinámico de un circuito RLC"
   ]
  },
  {
   "cell_type": "code",
   "execution_count": 1,
   "id": "3e1323e9",
   "metadata": {},
   "outputs": [],
   "source": [
    "import sympy as sym\n",
    "sym.init_printing()\n",
    "import matplotlib.pyplot as plt\n",
    "%matplotlib inline"
   ]
  },
  {
   "cell_type": "markdown",
   "id": "b2617101",
   "metadata": {},
   "source": [
    "\n",
    "\n",
    "\n",
    "| Elemento | Dominio del tiempo  (EDO)| \n",
    "|:---:|:---:|\n",
    "| ![Resistancia](figuras/resistor.png) | $u(t) = R \\cdot i(t)$ | $U(s) = R \\cdot I(s)$ | $R$ |\n",
    "| ![Inductor](figuras/inductor.png) | $\\begin{matrix} u(t) = L \\frac{d}{dt} i(t) \\\\ i(t) = \\frac{1}{L} \\int_{0}^{t} u(\\tau) d\\tau + i(0+) \\epsilon(t) \\end{matrix}$ | $\\begin{matrix} U(s) = s L I(s) - L i(0+) \\\\ I(s) = \\frac{1}{s L} U(s) + \\frac{1}{s} i(0+) \\end{matrix}$ | $s L$ |\n",
    "| ![Capacitor](figuras/capacitor.png) | $\\begin{matrix} u(t) = \\frac{1}{C} \\int_{0}^{t} i(\\tau) d\\tau + u(0+) \\epsilon(t) \\\\ i(t) = C \\frac{d}{dt} u(t) \\end{matrix}$ | $\\begin{matrix} U(s) = \\frac{1}{s C} I(s) + \\frac{1}{s} u(0+) \\\\ I(s) = s C U(s) - C u(0+) \\end{matrix}$ | $\\frac{1}{s C}$\n"
   ]
  },
  {
   "cell_type": "markdown",
   "id": "544430dd",
   "metadata": {},
   "source": [
    "Considere el circuito que se muestra en la figura. Suponga que la entrada es el voltaje $x(t)$ y la salida es el voltaje $y(t)$. Suponga además que no hay energía almacenada en los elementos que almacenan energía en $t<0$. Además, considere que $x(t)=0 \\forall t<0$.\n",
    "\n",
    "![bloque](figuras/bloque_tiempo.PNG)\n",
    "\n",
    "\n",
    "![Circuito](figuras/lowpass.png)"
   ]
  },
  {
   "cell_type": "markdown",
   "id": "36676b29",
   "metadata": {},
   "source": [
    "El voltaje $x(t)$ es igual a los voltajes que caen en la red $RLC$.\n",
    "\n",
    "\n",
    "\\begin{align}\n",
    "v_R(t) + v_L(t) + v_C(t) &= x(t) \\\\\n",
    "R i(t) + L \\frac{di}{dt} + \\frac{1}{C} \\int_{0}^{t} i(\\tau) d\\tau &= x(t) \\\\\n",
    "\\end{align}\n",
    "\n",
    "La salida $y(t)$ es el voltaje del capacitor.\n",
    "\n",
    "\\begin{equation}\n",
    "y(t) = \\frac{1}{C} \\int_{0}^{t} i(\\tau) d\\tau\n",
    "\\end{equation}\n",
    "\n",
    "De donde se obtiene la corriente $i(t)$\n",
    "\n",
    "\\begin{equation}\n",
    "C \\frac{dy}{dt} = i(t)\n",
    "\\end{equation}\n",
    "\n",
    "Incorporando las expresiones de la salida $y(t)$ y la variable interna $i(t)$ en la ecuación de la malla se obtiene\n",
    "\n",
    "\\begin{align}\n",
    "R i(t) + L \\frac{di}{dt} + \\frac{1}{C} \\int_{0}^{t} i(\\tau) d\\tau &= x(t) \\\\\n",
    "C R \\frac{d y(t)}{dt} + C L \\frac{d^2 y(t)}{dt^2} + y(t)& = x(t) \\\\\n",
    "\\end{align}\n",
    "\n",
    "-------------------\n"
   ]
  },
  {
   "cell_type": "markdown",
   "id": "f8a41fa8",
   "metadata": {},
   "source": [
    "\\begin{equation}\n",
    "y(t) = \\frac{1}{C} \\int_{0}^{t} i(\\tau) d\\tau\n",
    "\\end{equation}\n"
   ]
  },
  {
   "cell_type": "markdown",
   "id": "5d9dabc0",
   "metadata": {},
   "source": [
    "\\begin{equation}\n",
    "C \\cdot y(t) = C \\cdot \\frac{1}{C} \\int_{0}^{t} i(\\tau) d\\tau\n",
    "\\end{equation}"
   ]
  },
  {
   "cell_type": "markdown",
   "id": "6d779059",
   "metadata": {},
   "source": [
    "\\begin{equation}\n",
    "C \\cdot y(t) =  \\int_{0}^{t} i(\\tau) d\\tau\n",
    "\\end{equation}"
   ]
  },
  {
   "cell_type": "markdown",
   "id": "4386a967",
   "metadata": {},
   "source": [
    "\\begin{equation}\n",
    "\\frac{d}{dt} (C \\cdot y(t)) =  \\frac{d}{dt}(\\int_{0}^{t} i(\\tau) d\\tau)\n",
    "\\end{equation}"
   ]
  },
  {
   "cell_type": "markdown",
   "id": "e54a2528",
   "metadata": {},
   "source": [
    "\\begin{equation}\n",
    "C \\frac{dy}{dt} =  i(t)\n",
    "\\end{equation}"
   ]
  },
  {
   "cell_type": "markdown",
   "id": "c38b48de",
   "metadata": {},
   "source": []
  },
  {
   "cell_type": "code",
   "execution_count": 2,
   "id": "e67d8f12",
   "metadata": {},
   "outputs": [
    {
     "data": {
      "image/png": "[encoded data removed]",
      "text/latex": [
       "$\\displaystyle C L \\frac{d^{2}}{d t^{2}} y{\\left(t \\right)} + C R \\frac{d}{d t} y{\\left(t \\right)} + y{\\left(t \\right)} = x{\\left(t \\right)}$"
      ],
      "text/plain": [
       "      2                                   \n",
       "     d              d                     \n",
       "C⋅L⋅───(y(t)) + C⋅R⋅──(y(t)) + y(t) = x(t)\n",
       "      2             dt                    \n",
       "    dt                                    "
      ]
     },
     "execution_count": 2,
     "metadata": {},
     "output_type": "execute_result"
    }
   ],
   "source": [
    "t, L, R, C = sym.symbols('t L R C', real=True)\n",
    "x = sym.Function('x')(t)\n",
    "y = sym.Function('y')(t)\n",
    "\n",
    "ode = sym.Eq(C*R*y.diff(t) + C*L*y.diff(t, 2) +  y, x)\n",
    "ode"
   ]
  },
  {
   "cell_type": "markdown",
   "id": "1e15b650",
   "metadata": {},
   "source": [
    "Dada una entrada $x(t)$, se puede calcular la solución del sistema. Observe que al usar `dsolve` obtiene la solución general de la homogénea relacionada junto a la solución particular."
   ]
  },
  {
   "cell_type": "code",
   "execution_count": 3,
   "id": "d1a32b1f",
   "metadata": {},
   "outputs": [
    {
     "data": {
      "text/latex": [
       "$\\displaystyle y{\\left(t \\right)} = C_{1} e^{\\frac{t \\left(- R + \\frac{\\sqrt{C \\left(C R^{2} - 4 L\\right)}}{C}\\right)}{2 L}} + C_{2} e^{- \\frac{t \\left(R + \\frac{\\sqrt{C \\left(C R^{2} - 4 L\\right)}}{C}\\right)}{2 L}} - \\frac{\\left(\\begin{cases} \\begin{cases} \\frac{2 C L}{C R - \\sqrt{C^{2} R^{2} - 4 C L}} & \\text{for}\\: C R - \\sqrt{C^{2} R^{2} - 4 C L} \\neq 0 \\\\0 & \\text{otherwise} \\end{cases} & \\text{for}\\: C R - \\sqrt{C^{2} R^{2} - 4 C L} = 0 \\\\\\frac{2 C L}{C R - \\sqrt{C^{2} R^{2} - 4 C L}} & \\text{otherwise} \\end{cases}\\right) e^{\\frac{t \\left(- R + \\frac{\\sqrt{C \\left(C R^{2} - 4 L\\right)}}{C}\\right)}{2 L}} \\theta\\left(t\\right)}{\\sqrt{C \\left(C R^{2} - 4 L\\right)}} + \\frac{\\left(\\begin{cases} \\begin{cases} \\frac{2 C L}{C R + \\sqrt{C^{2} R^{2} - 4 C L}} & \\text{for}\\: C R + \\sqrt{C^{2} R^{2} - 4 C L} \\neq 0 \\\\0 & \\text{otherwise} \\end{cases} & \\text{for}\\: C R + \\sqrt{C^{2} R^{2} - 4 C L} = 0 \\\\\\frac{2 C L}{C R + \\sqrt{C^{2} R^{2} - 4 C L}} & \\text{otherwise} \\end{cases}\\right) e^{- \\frac{t \\left(R + \\frac{\\sqrt{C \\left(C R^{2} - 4 L\\right)}}{C}\\right)}{2 L}} \\theta\\left(t\\right)}{\\sqrt{C \\left(C R^{2} - 4 L\\right)}} + \\frac{\\left(\\begin{cases} \\begin{cases} \\frac{2 C L e^{\\frac{R t}{2 L} - \\frac{t \\sqrt{C^{2} R^{2} - 4 C L}}{2 C L}}}{C R - \\sqrt{C^{2} R^{2} - 4 C L}} & \\text{for}\\: C R - \\sqrt{C^{2} R^{2} - 4 C L} \\neq 0 \\\\t & \\text{otherwise} \\end{cases} & \\text{for}\\: C R - \\sqrt{C^{2} R^{2} - 4 C L} = 0 \\\\\\frac{2 C L e^{\\frac{R t}{2 L} - \\frac{t \\sqrt{C^{2} R^{2} - 4 C L}}{2 C L}}}{C R - \\sqrt{C^{2} R^{2} - 4 C L}} & \\text{otherwise} \\end{cases}\\right) e^{\\frac{t \\left(- R + \\frac{\\sqrt{C \\left(C R^{2} - 4 L\\right)}}{C}\\right)}{2 L}} \\theta\\left(t\\right)}{\\sqrt{C \\left(C R^{2} - 4 L\\right)}} - \\frac{\\left(\\begin{cases} \\begin{cases} \\frac{2 C L e^{\\frac{R t}{2 L} + \\frac{t \\sqrt{C^{2} R^{2} - 4 C L}}{2 C L}}}{C R + \\sqrt{C^{2} R^{2} - 4 C L}} & \\text{for}\\: C R + \\sqrt{C^{2} R^{2} - 4 C L} \\neq 0 \\\\t & \\text{otherwise} \\end{cases} & \\text{for}\\: C R + \\sqrt{C^{2} R^{2} - 4 C L} = 0 \\\\\\frac{2 C L e^{\\frac{R t}{2 L} + \\frac{t \\sqrt{C^{2} R^{2} - 4 C L}}{2 C L}}}{C R + \\sqrt{C^{2} R^{2} - 4 C L}} & \\text{otherwise} \\end{cases}\\right) e^{- \\frac{t \\left(R + \\frac{\\sqrt{C \\left(C R^{2} - 4 L\\right)}}{C}\\right)}{2 L}} \\theta\\left(t\\right)}{\\sqrt{C \\left(C R^{2} - 4 L\\right)}}$"
      ],
      "text/plain": [
       "                                                                              \n",
       "                                                                              \n",
       "                                                                              \n",
       "                                                                              \n",
       "                                                                              \n",
       "                                                                              \n",
       "                                                                              \n",
       "                                                                              \n",
       "                                                                              \n",
       "                                                                              \n",
       "                                                                              \n",
       "                                                                              \n",
       "                                                                              \n",
       "                                                                              \n",
       "                                                                              \n",
       "                                                                              \n",
       "                                                                              \n",
       "                                                                              \n",
       "             ⎛        ________________⎞          ⎛       ________________⎞    \n",
       "             ⎜       ╱   ⎛   2      ⎞ ⎟          ⎜      ╱   ⎛   2      ⎞ ⎟    \n",
       "             ⎜     ╲╱  C⋅⎝C⋅R  - 4⋅L⎠ ⎟          ⎜    ╲╱  C⋅⎝C⋅R  - 4⋅L⎠ ⎟    \n",
       "           t⋅⎜-R + ───────────────────⎟       -t⋅⎜R + ───────────────────⎟    \n",
       "             ⎝              C         ⎠          ⎝             C         ⎠    \n",
       "           ────────────────────────────       ─────────────────────────────   \n",
       "                       2⋅L                                 2⋅L                \n",
       "y(t) = C₁⋅ℯ                             + C₂⋅ℯ                              - \n",
       "                                                                              \n",
       "                                                                              \n",
       "                                                                              \n",
       "\n",
       "                                                                              \n",
       "                                                                              \n",
       "                                                                              \n",
       "                                                                              \n",
       "                                                                              \n",
       "                                                                              \n",
       "                                                                              \n",
       "                                                                              \n",
       "                                                                              \n",
       "                                                                              \n",
       "⎛⎧⎧                                       _______________                     \n",
       "⎜⎪⎪         2⋅C⋅L                        ╱  2  2                              \n",
       "⎜⎪⎪────────────────────────  for C⋅R - ╲╱  C ⋅R  - 4⋅C⋅L  ≠ 0               __\n",
       "⎜⎪⎪         _______________                                                ╱  \n",
       "⎜⎪⎨        ╱  2  2                                             for C⋅R - ╲╱  C\n",
       "⎜⎪⎪C⋅R - ╲╱  C ⋅R  - 4⋅C⋅L                                                    \n",
       "⎜⎪⎪                                                                           \n",
       "⎜⎨⎪           0                         otherwise                             \n",
       "⎜⎪⎩                                                                           \n",
       "⎜⎪                                                                            \n",
       "⎜⎪                          2⋅C⋅L                                             \n",
       "⎜⎪                 ────────────────────────                               othe\n",
       "⎜⎪                          _______________                                   \n",
       "⎜⎪                         ╱  2  2                                            \n",
       "⎝⎩                 C⋅R - ╲╱  C ⋅R  - 4⋅C⋅L                                    \n",
       "──────────────────────────────────────────────────────────────────────────────\n",
       "                                                           ________________   \n",
       "                                                          ╱   ⎛   2      ⎞    \n",
       "                                                        ╲╱  C⋅⎝C⋅R  - 4⋅L⎠    \n",
       "\n",
       "                                                                              \n",
       "                                                                              \n",
       "                                                                              \n",
       "                                                                              \n",
       "                                                                              \n",
       "                                                                              \n",
       "                                                                              \n",
       "                                                                              \n",
       "                                                                              \n",
       "                                                                              \n",
       "                 ⎞    ⎛        ________________⎞        ⎛⎧⎧                   \n",
       "                 ⎟    ⎜       ╱   ⎛   2      ⎞ ⎟        ⎜⎪⎪         2⋅C⋅L     \n",
       "_____________    ⎟    ⎜     ╲╱  C⋅⎝C⋅R  - 4⋅L⎠ ⎟        ⎜⎪⎪───────────────────\n",
       "2  2             ⎟  t⋅⎜-R + ───────────────────⎟        ⎜⎪⎪         __________\n",
       " ⋅R  - 4⋅C⋅L  = 0⎟    ⎝              C         ⎠        ⎜⎪⎨        ╱  2  2    \n",
       "                 ⎟  ────────────────────────────        ⎜⎪⎪C⋅R + ╲╱  C ⋅R  - 4\n",
       "                 ⎟              2⋅L                     ⎜⎪⎪                   \n",
       "                 ⎟⋅ℯ                            ⋅θ(t)   ⎜⎨⎪           0       \n",
       "                 ⎟                                      ⎜⎪⎩                   \n",
       "                 ⎟                                      ⎜⎪                    \n",
       "                 ⎟                                      ⎜⎪                    \n",
       "rwise            ⎟                                      ⎜⎪                 ───\n",
       "                 ⎟                                      ⎜⎪                    \n",
       "                 ⎟                                      ⎜⎪                    \n",
       "                 ⎠                                      ⎝⎩                 C⋅R\n",
       "───────────────────────────────────────────────────── + ──────────────────────\n",
       "                                                                              \n",
       "                                                                              \n",
       "                                                                              \n",
       "\n",
       "                                                                              \n",
       "                                                                              \n",
       "                                                                              \n",
       "                                                                              \n",
       "                                                                              \n",
       "                                                                              \n",
       "                                                                              \n",
       "                                                                              \n",
       "                                                                              \n",
       "                                                                              \n",
       "                    _______________                                      ⎞    \n",
       "                   ╱  2  2                                               ⎟    \n",
       "─────  for C⋅R + ╲╱  C ⋅R  - 4⋅C⋅L  ≠ 0               _______________    ⎟    \n",
       "_____                                                ╱  2  2             ⎟  -t\n",
       "                                         for C⋅R + ╲╱  C ⋅R  - 4⋅C⋅L  = 0⎟    \n",
       "⋅C⋅L                                                                     ⎟  ──\n",
       "                                                                         ⎟    \n",
       "                  otherwise                                              ⎟⋅ℯ  \n",
       "                                                                         ⎟    \n",
       "                                                                         ⎟    \n",
       "      2⋅C⋅L                                                              ⎟    \n",
       "─────────────────────                               otherwise            ⎟    \n",
       "      _______________                                                    ⎟    \n",
       "     ╱  2  2                                                             ⎟    \n",
       " + ╲╱  C ⋅R  - 4⋅C⋅L                                                     ⎠    \n",
       "──────────────────────────────────────────────────────────────────────────────\n",
       "                                     ________________                         \n",
       "                                    ╱   ⎛   2      ⎞                          \n",
       "                                  ╲╱  C⋅⎝C⋅R  - 4⋅L⎠                          \n",
       "\n",
       "                                   ⎛⎧⎧                  _______________       \n",
       "                                   ⎜⎪⎪                 ╱  2  2                \n",
       "                                   ⎜⎪⎪       R⋅t   t⋅╲╱  C ⋅R  - 4⋅C⋅L        \n",
       "                                   ⎜⎪⎪       ─── - ────────────────────       \n",
       "                                   ⎜⎪⎪       2⋅L          2⋅C⋅L               \n",
       "                                   ⎜⎪⎪2⋅C⋅L⋅ℯ                                 \n",
       "                                   ⎜⎪⎨─────────────────────────────────  for C\n",
       "                                   ⎜⎪⎪              _______________           \n",
       "                                   ⎜⎪⎪             ╱  2  2                    \n",
       "                                   ⎜⎪⎪     C⋅R - ╲╱  C ⋅R  - 4⋅C⋅L            \n",
       " ⎛       ________________⎞         ⎜⎪⎪                                        \n",
       " ⎜      ╱   ⎛   2      ⎞ ⎟         ⎜⎪⎪                t                       \n",
       " ⎜    ╲╱  C⋅⎝C⋅R  - 4⋅L⎠ ⎟         ⎜⎨⎩                                        \n",
       "⋅⎜R + ───────────────────⎟         ⎜⎪                                         \n",
       " ⎝             C         ⎠         ⎜⎪                                   ______\n",
       "───────────────────────────        ⎜⎪                                  ╱  2  2\n",
       "           2⋅L                     ⎜⎪                        R⋅t   t⋅╲╱  C ⋅R \n",
       "                           ⋅θ(t)   ⎜⎪                        ─── - ───────────\n",
       "                                   ⎜⎪                        2⋅L          2⋅C⋅\n",
       "                                   ⎜⎪                 2⋅C⋅L⋅ℯ                 \n",
       "                                   ⎜⎪                 ────────────────────────\n",
       "                                   ⎜⎪                               __________\n",
       "                                   ⎜⎪                              ╱  2  2    \n",
       "                                   ⎜⎪                      C⋅R - ╲╱  C ⋅R  - 4\n",
       "                                   ⎝⎩                                         \n",
       "──────────────────────────────── + ───────────────────────────────────────────\n",
       "                                                                              \n",
       "                                                                              \n",
       "                                                                              \n",
       "\n",
       "                                                             ⎞                \n",
       "                                                             ⎟                \n",
       "                                                             ⎟                \n",
       "                                                             ⎟                \n",
       "        _______________                   _______________    ⎟                \n",
       "       ╱  2  2                           ╱  2  2             ⎟    ⎛        ___\n",
       "⋅R - ╲╱  C ⋅R  - 4⋅C⋅L  ≠ 0  for C⋅R - ╲╱  C ⋅R  - 4⋅C⋅L  = 0⎟    ⎜       ╱   \n",
       "                                                             ⎟    ⎜     ╲╱  C⋅\n",
       "                                                             ⎟  t⋅⎜-R + ──────\n",
       "                                                             ⎟    ⎝           \n",
       "                                                             ⎟  ──────────────\n",
       "      otherwise                                              ⎟              2⋅\n",
       "                                                             ⎟⋅ℯ              \n",
       "                                                             ⎟                \n",
       "_________                                                    ⎟                \n",
       "                                                             ⎟                \n",
       " - 4⋅C⋅L                                                     ⎟                \n",
       "─────────                                                    ⎟                \n",
       "L                                                            ⎟                \n",
       "                                                             ⎟                \n",
       "─────────                               otherwise            ⎟                \n",
       "_____                                                        ⎟                \n",
       "                                                             ⎟                \n",
       "⋅C⋅L                                                         ⎟                \n",
       "                                                             ⎠                \n",
       "──────────────────────────────────────────────────────────────────────────────\n",
       "                    ________________                                          \n",
       "                   ╱   ⎛   2      ⎞                                           \n",
       "                 ╲╱  C⋅⎝C⋅R  - 4⋅L⎠                                           \n",
       "\n",
       "                      ⎛⎧⎧                  _______________                    \n",
       "                      ⎜⎪⎪                 ╱  2  2                             \n",
       "                      ⎜⎪⎪       R⋅t   t⋅╲╱  C ⋅R  - 4⋅C⋅L                     \n",
       "                      ⎜⎪⎪       ─── + ────────────────────                    \n",
       "                      ⎜⎪⎪       2⋅L          2⋅C⋅L                       _____\n",
       "_____________⎞        ⎜⎪⎪2⋅C⋅L⋅ℯ                                        ╱  2  \n",
       "⎛   2      ⎞ ⎟        ⎜⎪⎨─────────────────────────────────  for C⋅R + ╲╱  C ⋅R\n",
       "⎝C⋅R  - 4⋅L⎠ ⎟        ⎜⎪⎪              _______________                        \n",
       "─────────────⎟        ⎜⎪⎪             ╱  2  2                                 \n",
       "   C         ⎠        ⎜⎪⎪     C⋅R + ╲╱  C ⋅R  - 4⋅C⋅L                         \n",
       "──────────────        ⎜⎪⎪                                                     \n",
       "L                     ⎜⎪⎪                t                             otherwi\n",
       "              ⋅θ(t)   ⎜⎨⎩                                                     \n",
       "                      ⎜⎪                                                      \n",
       "                      ⎜⎪                                   _______________    \n",
       "                      ⎜⎪                                  ╱  2  2             \n",
       "                      ⎜⎪                        R⋅t   t⋅╲╱  C ⋅R  - 4⋅C⋅L     \n",
       "                      ⎜⎪                        ─── + ────────────────────    \n",
       "                      ⎜⎪                        2⋅L          2⋅C⋅L            \n",
       "                      ⎜⎪                 2⋅C⋅L⋅ℯ                              \n",
       "                      ⎜⎪                 ─────────────────────────────────    \n",
       "                      ⎜⎪                               _______________        \n",
       "                      ⎜⎪                              ╱  2  2                 \n",
       "                      ⎜⎪                      C⋅R + ╲╱  C ⋅R  - 4⋅C⋅L         \n",
       "                      ⎝⎩                                                      \n",
       "─────────────────── - ────────────────────────────────────────────────────────\n",
       "                                                                              \n",
       "                                                                              \n",
       "                                                                              \n",
       "\n",
       "                                                ⎞                             \n",
       "                                                ⎟                             \n",
       "                                                ⎟                             \n",
       "                                                ⎟                             \n",
       "__________                   _______________    ⎟                             \n",
       "2                           ╱  2  2             ⎟     ⎛       ________________\n",
       "  - 4⋅C⋅L  ≠ 0  for C⋅R + ╲╱  C ⋅R  - 4⋅C⋅L  = 0⎟     ⎜      ╱   ⎛   2      ⎞ \n",
       "                                                ⎟     ⎜    ╲╱  C⋅⎝C⋅R  - 4⋅L⎠ \n",
       "                                                ⎟  -t⋅⎜R + ───────────────────\n",
       "                                                ⎟     ⎝             C         \n",
       "                                                ⎟  ───────────────────────────\n",
       "se                                              ⎟               2⋅L           \n",
       "                                                ⎟⋅ℯ                           \n",
       "                                                ⎟                             \n",
       "                                                ⎟                             \n",
       "                                                ⎟                             \n",
       "                                                ⎟                             \n",
       "                                                ⎟                             \n",
       "                                                ⎟                             \n",
       "                                                ⎟                             \n",
       "                           otherwise            ⎟                             \n",
       "                                                ⎟                             \n",
       "                                                ⎟                             \n",
       "                                                ⎟                             \n",
       "                                                ⎠                             \n",
       "──────────────────────────────────────────────────────────────────────────────\n",
       "        ________________                                                      \n",
       "       ╱   ⎛   2      ⎞                                                       \n",
       "     ╲╱  C⋅⎝C⋅R  - 4⋅L⎠                                                       \n",
       "\n",
       "       \n",
       "       \n",
       "       \n",
       "       \n",
       "       \n",
       "⎞      \n",
       "⎟      \n",
       "⎟      \n",
       "⎟      \n",
       "⎠      \n",
       "──     \n",
       "       \n",
       "  ⋅θ(t)\n",
       "       \n",
       "       \n",
       "       \n",
       "       \n",
       "       \n",
       "       \n",
       "       \n",
       "       \n",
       "       \n",
       "       \n",
       "       \n",
       "       \n",
       "───────\n",
       "       \n",
       "       \n",
       "       "
      ]
     },
     "execution_count": 3,
     "metadata": {},
     "output_type": "execute_result"
    }
   ],
   "source": [
    "u = sym.Heaviside(t)\n",
    "# u = sym.Heaviside(t)*t\n",
    "# sol = sym.dsolve( ode.subs(x,u))\n",
    "sol = sym.dsolve( ode.subs(x,u))\n",
    "sol"
   ]
  },
  {
   "cell_type": "markdown",
   "id": "98d716c7",
   "metadata": {},
   "source": [
    "Las constantes $C_1$ y $C_2$ deben calcularse para satisfacer las condiciones iniciales  $y(t) = 0$ and $\\frac{d y(t)}{dt} = 0$ para $t<0$. "
   ]
  },
  {
   "cell_type": "code",
   "execution_count": 4,
   "id": "af4b15bb",
   "metadata": {},
   "outputs": [
    {
     "data": {
      "image/png": "[encoded data removed]",
      "text/latex": [
       "$\\displaystyle \\left\\{ C_{1} : 0, \\  C_{2} : 0\\right\\}$"
      ],
      "text/plain": [
       "{C₁: 0, C₂: 0}"
      ]
     },
     "execution_count": 4,
     "metadata": {},
     "output_type": "execute_result"
    }
   ],
   "source": [
    "C_int = sym.solve((sol.rhs.limit(t, 0, '-'),\n",
    "                   sol.rhs.diff(t).limit(t, 0, '-')),\n",
    "                  ['C1', 'C2'])\n",
    "C_int"
   ]
  },
  {
   "cell_type": "code",
   "execution_count": 5,
   "id": "bcff03c3",
   "metadata": {},
   "outputs": [
    {
     "data": {
      "text/latex": [
       "$\\displaystyle y{\\left(t \\right)} = - \\frac{\\left(\\begin{cases} \\begin{cases} \\frac{2 C L}{C R - \\sqrt{C^{2} R^{2} - 4 C L}} & \\text{for}\\: C R - \\sqrt{C^{2} R^{2} - 4 C L} \\neq 0 \\\\0 & \\text{otherwise} \\end{cases} & \\text{for}\\: C R - \\sqrt{C^{2} R^{2} - 4 C L} = 0 \\\\\\frac{2 C L}{C R - \\sqrt{C^{2} R^{2} - 4 C L}} & \\text{otherwise} \\end{cases}\\right) e^{\\frac{t \\left(- R + \\frac{\\sqrt{C \\left(C R^{2} - 4 L\\right)}}{C}\\right)}{2 L}} \\theta\\left(t\\right)}{\\sqrt{C \\left(C R^{2} - 4 L\\right)}} + \\frac{\\left(\\begin{cases} \\begin{cases} \\frac{2 C L}{C R + \\sqrt{C^{2} R^{2} - 4 C L}} & \\text{for}\\: C R + \\sqrt{C^{2} R^{2} - 4 C L} \\neq 0 \\\\0 & \\text{otherwise} \\end{cases} & \\text{for}\\: C R + \\sqrt{C^{2} R^{2} - 4 C L} = 0 \\\\\\frac{2 C L}{C R + \\sqrt{C^{2} R^{2} - 4 C L}} & \\text{otherwise} \\end{cases}\\right) e^{- \\frac{t \\left(R + \\frac{\\sqrt{C \\left(C R^{2} - 4 L\\right)}}{C}\\right)}{2 L}} \\theta\\left(t\\right)}{\\sqrt{C \\left(C R^{2} - 4 L\\right)}} + \\frac{\\left(\\begin{cases} \\begin{cases} \\frac{2 C L e^{\\frac{R t}{2 L} - \\frac{t \\sqrt{C^{2} R^{2} - 4 C L}}{2 C L}}}{C R - \\sqrt{C^{2} R^{2} - 4 C L}} & \\text{for}\\: C R - \\sqrt{C^{2} R^{2} - 4 C L} \\neq 0 \\\\t & \\text{otherwise} \\end{cases} & \\text{for}\\: C R - \\sqrt{C^{2} R^{2} - 4 C L} = 0 \\\\\\frac{2 C L e^{\\frac{R t}{2 L} - \\frac{t \\sqrt{C^{2} R^{2} - 4 C L}}{2 C L}}}{C R - \\sqrt{C^{2} R^{2} - 4 C L}} & \\text{otherwise} \\end{cases}\\right) e^{\\frac{t \\left(- R + \\frac{\\sqrt{C \\left(C R^{2} - 4 L\\right)}}{C}\\right)}{2 L}} \\theta\\left(t\\right)}{\\sqrt{C \\left(C R^{2} - 4 L\\right)}} - \\frac{\\left(\\begin{cases} \\begin{cases} \\frac{2 C L e^{\\frac{R t}{2 L} + \\frac{t \\sqrt{C^{2} R^{2} - 4 C L}}{2 C L}}}{C R + \\sqrt{C^{2} R^{2} - 4 C L}} & \\text{for}\\: C R + \\sqrt{C^{2} R^{2} - 4 C L} \\neq 0 \\\\t & \\text{otherwise} \\end{cases} & \\text{for}\\: C R + \\sqrt{C^{2} R^{2} - 4 C L} = 0 \\\\\\frac{2 C L e^{\\frac{R t}{2 L} + \\frac{t \\sqrt{C^{2} R^{2} - 4 C L}}{2 C L}}}{C R + \\sqrt{C^{2} R^{2} - 4 C L}} & \\text{otherwise} \\end{cases}\\right) e^{- \\frac{t \\left(R + \\frac{\\sqrt{C \\left(C R^{2} - 4 L\\right)}}{C}\\right)}{2 L}} \\theta\\left(t\\right)}{\\sqrt{C \\left(C R^{2} - 4 L\\right)}}$"
      ],
      "text/plain": [
       "                                                                              \n",
       "                                                                              \n",
       "                                                                              \n",
       "                                                                              \n",
       "                                                                              \n",
       "                                                                              \n",
       "                                                                              \n",
       "                                                                              \n",
       "                                                                              \n",
       "                                                                              \n",
       "         ⎛⎧⎧                                       _______________            \n",
       "         ⎜⎪⎪         2⋅C⋅L                        ╱  2  2                     \n",
       "         ⎜⎪⎪────────────────────────  for C⋅R - ╲╱  C ⋅R  - 4⋅C⋅L  ≠ 0        \n",
       "         ⎜⎪⎪         _______________                                          \n",
       "         ⎜⎪⎨        ╱  2  2                                             for C⋅\n",
       "         ⎜⎪⎪C⋅R - ╲╱  C ⋅R  - 4⋅C⋅L                                           \n",
       "         ⎜⎪⎪                                                                  \n",
       "         ⎜⎨⎪           0                         otherwise                    \n",
       "         ⎜⎪⎩                                                                  \n",
       "         ⎜⎪                                                                   \n",
       "         ⎜⎪                          2⋅C⋅L                                    \n",
       "         ⎜⎪                 ────────────────────────                          \n",
       "         ⎜⎪                          _______________                          \n",
       "         ⎜⎪                         ╱  2  2                                   \n",
       "         ⎝⎩                 C⋅R - ╲╱  C ⋅R  - 4⋅C⋅L                           \n",
       "y(t) = - ─────────────────────────────────────────────────────────────────────\n",
       "                                                                    __________\n",
       "                                                                   ╱   ⎛   2  \n",
       "                                                                 ╲╱  C⋅⎝C⋅R  -\n",
       "\n",
       "                                                                              \n",
       "                                                                              \n",
       "                                                                              \n",
       "                                                                              \n",
       "                                                                              \n",
       "                                                                              \n",
       "                                                                              \n",
       "                                                                              \n",
       "                                                                              \n",
       "                                                                              \n",
       "                          ⎞    ⎛        ________________⎞        ⎛⎧⎧          \n",
       "                          ⎟    ⎜       ╱   ⎛   2      ⎞ ⎟        ⎜⎪⎪         2\n",
       "       _______________    ⎟    ⎜     ╲╱  C⋅⎝C⋅R  - 4⋅L⎠ ⎟        ⎜⎪⎪──────────\n",
       "      ╱  2  2             ⎟  t⋅⎜-R + ───────────────────⎟        ⎜⎪⎪         _\n",
       "R - ╲╱  C ⋅R  - 4⋅C⋅L  = 0⎟    ⎝              C         ⎠        ⎜⎪⎨        ╱ \n",
       "                          ⎟  ────────────────────────────        ⎜⎪⎪C⋅R + ╲╱  \n",
       "                          ⎟              2⋅L                     ⎜⎪⎪          \n",
       "                          ⎟⋅ℯ                            ⋅θ(t)   ⎜⎨⎪          \n",
       "                          ⎟                                      ⎜⎪⎩          \n",
       "                          ⎟                                      ⎜⎪           \n",
       "                          ⎟                                      ⎜⎪           \n",
       "     otherwise            ⎟                                      ⎜⎪           \n",
       "                          ⎟                                      ⎜⎪           \n",
       "                          ⎟                                      ⎜⎪           \n",
       "                          ⎠                                      ⎝⎩           \n",
       "────────────────────────────────────────────────────────────── + ─────────────\n",
       "______                                                                        \n",
       "    ⎞                                                                         \n",
       " 4⋅L⎠                                                                         \n",
       "\n",
       "                                                                              \n",
       "                                                                              \n",
       "                                                                              \n",
       "                                                                              \n",
       "                                                                              \n",
       "                                                                              \n",
       "                                                                              \n",
       "                                                                              \n",
       "                                                                              \n",
       "                                                                              \n",
       "                             _______________                                  \n",
       "⋅C⋅L                        ╱  2  2                                           \n",
       "──────────────  for C⋅R + ╲╱  C ⋅R  - 4⋅C⋅L  ≠ 0               _______________\n",
       "______________                                                ╱  2  2         \n",
       " 2  2                                             for C⋅R + ╲╱  C ⋅R  - 4⋅C⋅L \n",
       "C ⋅R  - 4⋅C⋅L                                                                 \n",
       "                                                                              \n",
       " 0                         otherwise                                          \n",
       "                                                                              \n",
       "                                                                              \n",
       "               2⋅C⋅L                                                          \n",
       "      ────────────────────────                               otherwise        \n",
       "               _______________                                                \n",
       "              ╱  2  2                                                         \n",
       "      C⋅R + ╲╱  C ⋅R  - 4⋅C⋅L                                                 \n",
       "──────────────────────────────────────────────────────────────────────────────\n",
       "                                              ________________                \n",
       "                                             ╱   ⎛   2      ⎞                 \n",
       "                                           ╲╱  C⋅⎝C⋅R  - 4⋅L⎠                 \n",
       "\n",
       "                                            ⎛⎧⎧                  _____________\n",
       "                                            ⎜⎪⎪                 ╱  2  2       \n",
       "                                            ⎜⎪⎪       R⋅t   t⋅╲╱  C ⋅R  - 4⋅C⋅\n",
       "                                            ⎜⎪⎪       ─── - ──────────────────\n",
       "                                            ⎜⎪⎪       2⋅L          2⋅C⋅L      \n",
       "                                            ⎜⎪⎪2⋅C⋅L⋅ℯ                        \n",
       "                                            ⎜⎪⎨───────────────────────────────\n",
       "                                            ⎜⎪⎪              _______________  \n",
       "                                            ⎜⎪⎪             ╱  2  2           \n",
       "                                            ⎜⎪⎪     C⋅R - ╲╱  C ⋅R  - 4⋅C⋅L   \n",
       "    ⎞     ⎛       ________________⎞         ⎜⎪⎪                               \n",
       "    ⎟     ⎜      ╱   ⎛   2      ⎞ ⎟         ⎜⎪⎪                t              \n",
       "    ⎟     ⎜    ╲╱  C⋅⎝C⋅R  - 4⋅L⎠ ⎟         ⎜⎨⎩                               \n",
       "    ⎟  -t⋅⎜R + ───────────────────⎟         ⎜⎪                                \n",
       " = 0⎟     ⎝             C         ⎠         ⎜⎪                                \n",
       "    ⎟  ─────────────────────────────        ⎜⎪                                \n",
       "    ⎟               2⋅L                     ⎜⎪                        R⋅t   t⋅\n",
       "    ⎟⋅ℯ                             ⋅θ(t)   ⎜⎪                        ─── - ──\n",
       "    ⎟                                       ⎜⎪                        2⋅L     \n",
       "    ⎟                                       ⎜⎪                 2⋅C⋅L⋅ℯ        \n",
       "    ⎟                                       ⎜⎪                 ───────────────\n",
       "    ⎟                                       ⎜⎪                               _\n",
       "    ⎟                                       ⎜⎪                              ╱ \n",
       "    ⎟                                       ⎜⎪                      C⋅R - ╲╱  \n",
       "    ⎠                                       ⎝⎩                                \n",
       "───────────────────────────────────────── + ──────────────────────────────────\n",
       "                                                                              \n",
       "                                                                              \n",
       "                                                                              \n",
       "\n",
       "__                                                                    ⎞       \n",
       "                                                                      ⎟       \n",
       "L                                                                     ⎟       \n",
       "──                                                                    ⎟       \n",
       "                 _______________                   _______________    ⎟       \n",
       "                ╱  2  2                           ╱  2  2             ⎟    ⎛  \n",
       "──  for C⋅R - ╲╱  C ⋅R  - 4⋅C⋅L  ≠ 0  for C⋅R - ╲╱  C ⋅R  - 4⋅C⋅L  = 0⎟    ⎜  \n",
       "                                                                      ⎟    ⎜  \n",
       "                                                                      ⎟  t⋅⎜-R\n",
       "                                                                      ⎟    ⎝  \n",
       "                                                                      ⎟  ─────\n",
       "               otherwise                                              ⎟       \n",
       "                                                                      ⎟⋅ℯ     \n",
       "                                                                      ⎟       \n",
       "   _______________                                                    ⎟       \n",
       "  ╱  2  2                                                             ⎟       \n",
       "╲╱  C ⋅R  - 4⋅C⋅L                                                     ⎟       \n",
       "──────────────────                                                    ⎟       \n",
       "     2⋅C⋅L                                                            ⎟       \n",
       "                                                                      ⎟       \n",
       "──────────────────                               otherwise            ⎟       \n",
       "______________                                                        ⎟       \n",
       " 2  2                                                                 ⎟       \n",
       "C ⋅R  - 4⋅C⋅L                                                         ⎟       \n",
       "                                                                      ⎠       \n",
       "──────────────────────────────────────────────────────────────────────────────\n",
       "                             ________________                                 \n",
       "                            ╱   ⎛   2      ⎞                                  \n",
       "                          ╲╱  C⋅⎝C⋅R  - 4⋅L⎠                                  \n",
       "\n",
       "                               ⎛⎧⎧                  _______________           \n",
       "                               ⎜⎪⎪                 ╱  2  2                    \n",
       "                               ⎜⎪⎪       R⋅t   t⋅╲╱  C ⋅R  - 4⋅C⋅L            \n",
       "                               ⎜⎪⎪       ─── + ────────────────────           \n",
       "                               ⎜⎪⎪       2⋅L          2⋅C⋅L                   \n",
       "      ________________⎞        ⎜⎪⎪2⋅C⋅L⋅ℯ                                     \n",
       "     ╱   ⎛   2      ⎞ ⎟        ⎜⎪⎨─────────────────────────────────  for C⋅R +\n",
       "   ╲╱  C⋅⎝C⋅R  - 4⋅L⎠ ⎟        ⎜⎪⎪              _______________               \n",
       " + ───────────────────⎟        ⎜⎪⎪             ╱  2  2                        \n",
       "            C         ⎠        ⎜⎪⎪     C⋅R + ╲╱  C ⋅R  - 4⋅C⋅L                \n",
       "───────────────────────        ⎜⎪⎪                                            \n",
       "       2⋅L                     ⎜⎪⎪                t                           \n",
       "                       ⋅θ(t)   ⎜⎨⎩                                            \n",
       "                               ⎜⎪                                             \n",
       "                               ⎜⎪                                   __________\n",
       "                               ⎜⎪                                  ╱  2  2    \n",
       "                               ⎜⎪                        R⋅t   t⋅╲╱  C ⋅R  - 4\n",
       "                               ⎜⎪                        ─── + ───────────────\n",
       "                               ⎜⎪                        2⋅L          2⋅C⋅L   \n",
       "                               ⎜⎪                 2⋅C⋅L⋅ℯ                     \n",
       "                               ⎜⎪                 ────────────────────────────\n",
       "                               ⎜⎪                               ______________\n",
       "                               ⎜⎪                              ╱  2  2        \n",
       "                               ⎜⎪                      C⋅R + ╲╱  C ⋅R  - 4⋅C⋅L\n",
       "                               ⎝⎩                                             \n",
       "──────────────────────────── - ───────────────────────────────────────────────\n",
       "                                                                              \n",
       "                                                                              \n",
       "                                                                              \n",
       "\n",
       "                                                         ⎞                    \n",
       "                                                         ⎟                    \n",
       "                                                         ⎟                    \n",
       "                                                         ⎟                    \n",
       "    _______________                   _______________    ⎟                    \n",
       "   ╱  2  2                           ╱  2  2             ⎟     ⎛       _______\n",
       " ╲╱  C ⋅R  - 4⋅C⋅L  ≠ 0  for C⋅R + ╲╱  C ⋅R  - 4⋅C⋅L  = 0⎟     ⎜      ╱   ⎛   \n",
       "                                                         ⎟     ⎜    ╲╱  C⋅⎝C⋅R\n",
       "                                                         ⎟  -t⋅⎜R + ──────────\n",
       "                                                         ⎟     ⎝             C\n",
       "                                                         ⎟  ──────────────────\n",
       "  otherwise                                              ⎟               2⋅L  \n",
       "                                                         ⎟⋅ℯ                  \n",
       "                                                         ⎟                    \n",
       "_____                                                    ⎟                    \n",
       "                                                         ⎟                    \n",
       "⋅C⋅L                                                     ⎟                    \n",
       "─────                                                    ⎟                    \n",
       "                                                         ⎟                    \n",
       "                                                         ⎟                    \n",
       "─────                               otherwise            ⎟                    \n",
       "_                                                        ⎟                    \n",
       "                                                         ⎟                    \n",
       "                                                         ⎟                    \n",
       "                                                         ⎠                    \n",
       "──────────────────────────────────────────────────────────────────────────────\n",
       "                 ________________                                             \n",
       "                ╱   ⎛   2      ⎞                                              \n",
       "              ╲╱  C⋅⎝C⋅R  - 4⋅L⎠                                              \n",
       "\n",
       "                \n",
       "                \n",
       "                \n",
       "                \n",
       "                \n",
       "_________⎞      \n",
       "2      ⎞ ⎟      \n",
       "  - 4⋅L⎠ ⎟      \n",
       "─────────⎟      \n",
       "         ⎠      \n",
       "───────────     \n",
       "                \n",
       "           ⋅θ(t)\n",
       "                \n",
       "                \n",
       "                \n",
       "                \n",
       "                \n",
       "                \n",
       "                \n",
       "                \n",
       "                \n",
       "                \n",
       "                \n",
       "                \n",
       "────────────────\n",
       "                \n",
       "                \n",
       "                "
      ]
     },
     "execution_count": 5,
     "metadata": {},
     "output_type": "execute_result"
    }
   ],
   "source": [
    "sol = sol.subs(C_int)\n",
    "sol"
   ]
  },
  {
   "cell_type": "code",
   "execution_count": 22,
   "id": "bdfcd12a",
   "metadata": {},
   "outputs": [
    {
     "data": {
      "image/png": "[encoded data removed]",
      "text/latex": [
       "$\\displaystyle \\left\\{ C : 0.03, \\  L : 0.05, \\  R : 40\\right\\}$"
      ],
      "text/plain": [
       "{C: 0.03, L: 0.05, R: 40}"
      ]
     },
     "execution_count": 22,
     "metadata": {},
     "output_type": "execute_result"
    }
   ],
   "source": [
    "RLC = {R: 40,     \n",
    "       L: 0.05,\n",
    "       C: .03}\n",
    "RLC"
   ]
  },
  {
   "cell_type": "code",
   "execution_count": 23,
   "id": "d23de9ff",
   "metadata": {},
   "outputs": [
    {
     "data": {
      "image/png": "[encoded data removed]",
      "text/latex": [
       "$\\displaystyle 0.99999999999999 \\theta\\left(t\\right) + 0.00104493321916999 e^{- 799.165796797939 t} \\theta\\left(t\\right) - 1.00104493321916 e^{- 0.83420320206119 t} \\theta\\left(t\\right)$"
      ],
      "text/plain": [
       "                                             -799.165796797939⋅t              \n",
       "0.99999999999999⋅θ(t) + 0.00104493321916999⋅ℯ                   ⋅θ(t) - 1.0010\n",
       "\n",
       "            -0.83420320206119⋅t     \n",
       "4493321916⋅ℯ                   ⋅θ(t)"
      ]
     },
     "execution_count": 23,
     "metadata": {},
     "output_type": "execute_result"
    }
   ],
   "source": [
    "sol.rhs.subs(RLC).simplify()"
   ]
  },
  {
   "cell_type": "code",
   "execution_count": 26,
   "id": "cdcd2198",
   "metadata": {},
   "outputs": [
    {
     "data": {
      "image/png": "[encoded data removed]",
      "text/plain": [
       "<Figure size 900x300 with 1 Axes>"
      ]
     },
     "metadata": {},
     "output_type": "display_data"
    },
    {
     "data": {
      "image/png": "[encoded data removed]",
      "text/plain": [
       "<Figure size 900x300 with 1 Axes>"
      ]
     },
     "metadata": {},
     "output_type": "display_data"
    }
   ],
   "source": [
    "tlaps = (t,-10e-3,0.5*10e1)\n",
    "\n",
    "plt.rcParams['figure.figsize'] = 9, 3\n",
    "\n",
    "sym.plot(sol.rhs.subs(RLC), tlaps, line_color='red',\n",
    "         ylabel = '$y(t)$',);\n",
    "\n",
    "sym.plot(u, tlaps, line_color='blue',\n",
    "         ylabel = '$x(t)$',);\n"
   ]
  },
  {
   "cell_type": "code",
   "execution_count": 8,
   "id": "8333a587",
   "metadata": {
    "scrolled": true
   },
   "outputs": [
    {
     "data": {
      "image/png": "[encoded data removed]",
      "text/latex": [
       "$\\displaystyle - 10.2062072615966 i \\left(0.06 + 0.0489897948556636 i\\right) e^{10.0 t \\left(-2 + 1.63299316185545 i\\right)} e^{20.0 t - 16.3299316185545 i t} \\theta\\left(t\\right) + 20.4124145231931 i \\left(0.03 + 0.0244948974278318 i\\right) e^{10.0 t \\left(-2 + 1.63299316185545 i\\right)} \\theta\\left(t\\right) + 10.2062072615966 i \\left(0.06 - 0.0489897948556636 i\\right) e^{- 10.0 t \\left(2 + 1.63299316185545 i\\right)} e^{20.0 t + 16.3299316185545 i t} \\theta\\left(t\\right) - 20.4124145231931 i \\left(0.03 - 0.0244948974278318 i\\right) e^{- 10.0 t \\left(2 + 1.63299316185545 i\\right)} \\theta\\left(t\\right)$"
      ],
      "text/plain": [
       "                                                    10.0⋅t⋅(-2 + 1.63299316185\n",
       "- 10.2062072615966⋅ⅈ⋅(0.06 + 0.0489897948556636⋅ⅈ)⋅ℯ                          \n",
       "\n",
       "545⋅ⅈ)  20.0⋅t - 16.3299316185545⋅ⅈ⋅t                                         \n",
       "      ⋅ℯ                             ⋅θ(t) + 20.4124145231931⋅ⅈ⋅(0.03 + 0.0244\n",
       "\n",
       "                 10.0⋅t⋅(-2 + 1.63299316185545⋅ⅈ)                             \n",
       "948974278318⋅ⅈ)⋅ℯ                                ⋅θ(t) + 10.2062072615966⋅ⅈ⋅(0\n",
       "\n",
       "                             -10.0⋅t⋅(2 + 1.63299316185545⋅ⅈ)  20.0⋅t + 16.329\n",
       ".06 - 0.0489897948556636⋅ⅈ)⋅ℯ                                ⋅ℯ               \n",
       "\n",
       "9316185545⋅ⅈ⋅t                                                          -10.0⋅\n",
       "              ⋅θ(t) - 20.4124145231931⋅ⅈ⋅(0.03 - 0.0244948974278318⋅ⅈ)⋅ℯ      \n",
       "\n",
       "t⋅(2 + 1.63299316185545⋅ⅈ)     \n",
       "                          ⋅θ(t)"
      ]
     },
     "execution_count": 8,
     "metadata": {},
     "output_type": "execute_result"
    }
   ],
   "source": [
    "sol.rhs.subs(RLC)"
   ]
  },
  {
   "cell_type": "code",
   "execution_count": null,
   "id": "22ed447e",
   "metadata": {},
   "outputs": [],
   "source": []
  },
  {
   "cell_type": "code",
   "execution_count": null,
   "id": "872887a8",
   "metadata": {},
   "outputs": [],
   "source": []
  }
 ],
 "metadata": {
  "kernelspec": {
   "display_name": "Python 3 (ipykernel)",
   "language": "python",
   "name": "python3"
  },
  "language_info": {
   "codemirror_mode": {
    "name": "ipython",
    "version": 3
   },
   "file_extension": ".py",
   "mimetype": "text/x-python",
   "name": "python",
   "nbconvert_exporter": "python",
   "pygments_lexer": "ipython3",
   "version": "3.10.9"
  },
  "latex_envs": {
   "bibliofile": "biblio.bib",
   "cite_by": "apalike",
   "current_citInitial": 1,
   "eqLabelWithNumbers": true,
   "eqNumInitial": 0
  },
  "varInspector": {
   "cols": {
    "lenName": 16,
    "lenType": 16,
    "lenVar": 40
   },
   "kernels_config": {
    "python": {
     "delete_cmd_postfix": "",
     "delete_cmd_prefix": "del ",
     "library": "var_list.py",
     "varRefreshCmd": "print(var_dic_list())"
    },
    "r": {
     "delete_cmd_postfix": ") ",
     "delete_cmd_prefix": "rm(",
     "library": "var_list.r",
     "varRefreshCmd": "cat(var_dic_list()) "
    }
   },
   "types_to_exclude": [
    "module",
    "function",
    "builtin_function_or_method",
    "instance",
    "_Feature"
   ],
   "window_display": false
  }
 },
 "nbformat": 4,
 "nbformat_minor": 5
}
