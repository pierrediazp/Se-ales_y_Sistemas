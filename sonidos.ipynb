{
 "cells": [
  {
   "cell_type": "code",
   "execution_count": 1,
   "id": "7e16c50f",
   "metadata": {},
   "outputs": [],
   "source": [
    "%matplotlib inline\n",
    "# !pip install soundfile\n",
    "import numpy as np\n",
    "import matplotlib.pyplot as plt\n",
    "import soundfile as sf\n",
    "import scipy.signal as sig\n",
    "import scipy\n",
    "from scipy.fftpack import fft,ifft\n"
   ]
  },
  {
   "cell_type": "markdown",
   "id": "4be53a3b",
   "metadata": {},
   "source": [
    "# Espectros de sonidos\n",
    "\n",
    "El [sonido](https://es.wikipedia.org/wiki/Sonido) es la variación de la presión debida a una onda mecánica que se propaga por el aire. Al grabar digitalmente un sonido, se toman muestras cada cierto tiempo $t_s$ (periodo de muestreo) de la vibración captada por un micrófono.\n",
    "\n",
    "Cuando se escucha una nota de un instrumento musical, se puede aceptar que la señal que llega a los oidos es \"periódica\" en un lapso definido de tiempo."
   ]
  },
  {
   "cell_type": "markdown",
   "id": "c78c58f2",
   "metadata": {},
   "source": [
    "Se ha hecho una grabación \"corta\" de un único sonido \"largo\" tomando muestras con frecuencia $f_s$.\n",
    "\n",
    "Puede verificarse la idea de periodicidad graficando la señal grabada."
   ]
  },
  {
   "cell_type": "code",
   "execution_count": 2,
   "id": "970f4538",
   "metadata": {},
   "outputs": [
    {
     "name": "stdout",
     "output_type": "stream",
     "text": [
      "C:\\Users\n"
     ]
    }
   ],
   "source": [
    "cd .."
   ]
  },
  {
   "cell_type": "code",
   "execution_count": 3,
   "id": "e5da208f",
   "metadata": {},
   "outputs": [
    {
     "ename": "LibsndfileError",
     "evalue": "Error opening 'datos/JPDP001.wav': System error.",
     "output_type": "error",
     "traceback": [
      "\u001b[1;31m---------------------------------------------------------------------------\u001b[0m",
      "\u001b[1;31mLibsndfileError\u001b[0m                           Traceback (most recent call last)",
      "Cell \u001b[1;32mIn[3], line 1\u001b[0m\n\u001b[1;32m----> 1\u001b[0m x, fs \u001b[38;5;241m=\u001b[39m \u001b[43msf\u001b[49m\u001b[38;5;241;43m.\u001b[39;49m\u001b[43mread\u001b[49m\u001b[43m(\u001b[49m\u001b[38;5;124;43m'\u001b[39;49m\u001b[38;5;124;43mdatos/JPDP001.wav\u001b[39;49m\u001b[38;5;124;43m'\u001b[39;49m\u001b[43m)\u001b[49m\n",
      "File \u001b[1;32m~\\anaconda3\\envs\\SisDin\\lib\\site-packages\\soundfile.py:285\u001b[0m, in \u001b[0;36mread\u001b[1;34m(file, frames, start, stop, dtype, always_2d, fill_value, out, samplerate, channels, format, subtype, endian, closefd)\u001b[0m\n\u001b[0;32m    199\u001b[0m \u001b[38;5;28;01mdef\u001b[39;00m \u001b[38;5;21mread\u001b[39m(file, frames\u001b[38;5;241m=\u001b[39m\u001b[38;5;241m-\u001b[39m\u001b[38;5;241m1\u001b[39m, start\u001b[38;5;241m=\u001b[39m\u001b[38;5;241m0\u001b[39m, stop\u001b[38;5;241m=\u001b[39m\u001b[38;5;28;01mNone\u001b[39;00m, dtype\u001b[38;5;241m=\u001b[39m\u001b[38;5;124m'\u001b[39m\u001b[38;5;124mfloat64\u001b[39m\u001b[38;5;124m'\u001b[39m, always_2d\u001b[38;5;241m=\u001b[39m\u001b[38;5;28;01mFalse\u001b[39;00m,\n\u001b[0;32m    200\u001b[0m          fill_value\u001b[38;5;241m=\u001b[39m\u001b[38;5;28;01mNone\u001b[39;00m, out\u001b[38;5;241m=\u001b[39m\u001b[38;5;28;01mNone\u001b[39;00m, samplerate\u001b[38;5;241m=\u001b[39m\u001b[38;5;28;01mNone\u001b[39;00m, channels\u001b[38;5;241m=\u001b[39m\u001b[38;5;28;01mNone\u001b[39;00m,\n\u001b[0;32m    201\u001b[0m          \u001b[38;5;28mformat\u001b[39m\u001b[38;5;241m=\u001b[39m\u001b[38;5;28;01mNone\u001b[39;00m, subtype\u001b[38;5;241m=\u001b[39m\u001b[38;5;28;01mNone\u001b[39;00m, endian\u001b[38;5;241m=\u001b[39m\u001b[38;5;28;01mNone\u001b[39;00m, closefd\u001b[38;5;241m=\u001b[39m\u001b[38;5;28;01mTrue\u001b[39;00m):\n\u001b[0;32m    202\u001b[0m     \u001b[38;5;124;03m\"\"\"Provide audio data from a sound file as NumPy array.\u001b[39;00m\n\u001b[0;32m    203\u001b[0m \n\u001b[0;32m    204\u001b[0m \u001b[38;5;124;03m    By default, the whole file is read from the beginning, but the\u001b[39;00m\n\u001b[1;32m   (...)\u001b[0m\n\u001b[0;32m    283\u001b[0m \n\u001b[0;32m    284\u001b[0m \u001b[38;5;124;03m    \"\"\"\u001b[39;00m\n\u001b[1;32m--> 285\u001b[0m     \u001b[38;5;28;01mwith\u001b[39;00m \u001b[43mSoundFile\u001b[49m\u001b[43m(\u001b[49m\u001b[43mfile\u001b[49m\u001b[43m,\u001b[49m\u001b[43m \u001b[49m\u001b[38;5;124;43m'\u001b[39;49m\u001b[38;5;124;43mr\u001b[39;49m\u001b[38;5;124;43m'\u001b[39;49m\u001b[43m,\u001b[49m\u001b[43m \u001b[49m\u001b[43msamplerate\u001b[49m\u001b[43m,\u001b[49m\u001b[43m \u001b[49m\u001b[43mchannels\u001b[49m\u001b[43m,\u001b[49m\n\u001b[0;32m    286\u001b[0m \u001b[43m                   \u001b[49m\u001b[43msubtype\u001b[49m\u001b[43m,\u001b[49m\u001b[43m \u001b[49m\u001b[43mendian\u001b[49m\u001b[43m,\u001b[49m\u001b[43m \u001b[49m\u001b[38;5;28;43mformat\u001b[39;49m\u001b[43m,\u001b[49m\u001b[43m \u001b[49m\u001b[43mclosefd\u001b[49m\u001b[43m)\u001b[49m \u001b[38;5;28;01mas\u001b[39;00m f:\n\u001b[0;32m    287\u001b[0m         frames \u001b[38;5;241m=\u001b[39m f\u001b[38;5;241m.\u001b[39m_prepare_read(start, stop, frames)\n\u001b[0;32m    288\u001b[0m         data \u001b[38;5;241m=\u001b[39m f\u001b[38;5;241m.\u001b[39mread(frames, dtype, always_2d, fill_value, out)\n",
      "File \u001b[1;32m~\\anaconda3\\envs\\SisDin\\lib\\site-packages\\soundfile.py:658\u001b[0m, in \u001b[0;36mSoundFile.__init__\u001b[1;34m(self, file, mode, samplerate, channels, subtype, endian, format, closefd)\u001b[0m\n\u001b[0;32m    655\u001b[0m \u001b[38;5;28mself\u001b[39m\u001b[38;5;241m.\u001b[39m_mode \u001b[38;5;241m=\u001b[39m mode\n\u001b[0;32m    656\u001b[0m \u001b[38;5;28mself\u001b[39m\u001b[38;5;241m.\u001b[39m_info \u001b[38;5;241m=\u001b[39m _create_info_struct(file, mode, samplerate, channels,\n\u001b[0;32m    657\u001b[0m                                  \u001b[38;5;28mformat\u001b[39m, subtype, endian)\n\u001b[1;32m--> 658\u001b[0m \u001b[38;5;28mself\u001b[39m\u001b[38;5;241m.\u001b[39m_file \u001b[38;5;241m=\u001b[39m \u001b[38;5;28;43mself\u001b[39;49m\u001b[38;5;241;43m.\u001b[39;49m\u001b[43m_open\u001b[49m\u001b[43m(\u001b[49m\u001b[43mfile\u001b[49m\u001b[43m,\u001b[49m\u001b[43m \u001b[49m\u001b[43mmode_int\u001b[49m\u001b[43m,\u001b[49m\u001b[43m \u001b[49m\u001b[43mclosefd\u001b[49m\u001b[43m)\u001b[49m\n\u001b[0;32m    659\u001b[0m \u001b[38;5;28;01mif\u001b[39;00m \u001b[38;5;28mset\u001b[39m(mode)\u001b[38;5;241m.\u001b[39missuperset(\u001b[38;5;124m'\u001b[39m\u001b[38;5;124mr+\u001b[39m\u001b[38;5;124m'\u001b[39m) \u001b[38;5;129;01mand\u001b[39;00m \u001b[38;5;28mself\u001b[39m\u001b[38;5;241m.\u001b[39mseekable():\n\u001b[0;32m    660\u001b[0m     \u001b[38;5;66;03m# Move write position to 0 (like in Python file objects)\u001b[39;00m\n\u001b[0;32m    661\u001b[0m     \u001b[38;5;28mself\u001b[39m\u001b[38;5;241m.\u001b[39mseek(\u001b[38;5;241m0\u001b[39m)\n",
      "File \u001b[1;32m~\\anaconda3\\envs\\SisDin\\lib\\site-packages\\soundfile.py:1216\u001b[0m, in \u001b[0;36mSoundFile._open\u001b[1;34m(self, file, mode_int, closefd)\u001b[0m\n\u001b[0;32m   1213\u001b[0m \u001b[38;5;28;01mif\u001b[39;00m file_ptr \u001b[38;5;241m==\u001b[39m _ffi\u001b[38;5;241m.\u001b[39mNULL:\n\u001b[0;32m   1214\u001b[0m     \u001b[38;5;66;03m# get the actual error code\u001b[39;00m\n\u001b[0;32m   1215\u001b[0m     err \u001b[38;5;241m=\u001b[39m _snd\u001b[38;5;241m.\u001b[39msf_error(file_ptr)\n\u001b[1;32m-> 1216\u001b[0m     \u001b[38;5;28;01mraise\u001b[39;00m LibsndfileError(err, prefix\u001b[38;5;241m=\u001b[39m\u001b[38;5;124m\"\u001b[39m\u001b[38;5;124mError opening \u001b[39m\u001b[38;5;132;01m{0!r}\u001b[39;00m\u001b[38;5;124m: \u001b[39m\u001b[38;5;124m\"\u001b[39m\u001b[38;5;241m.\u001b[39mformat(\u001b[38;5;28mself\u001b[39m\u001b[38;5;241m.\u001b[39mname))\n\u001b[0;32m   1217\u001b[0m \u001b[38;5;28;01mif\u001b[39;00m mode_int \u001b[38;5;241m==\u001b[39m _snd\u001b[38;5;241m.\u001b[39mSFM_WRITE:\n\u001b[0;32m   1218\u001b[0m     \u001b[38;5;66;03m# Due to a bug in libsndfile version <= 1.0.25, frames != 0\u001b[39;00m\n\u001b[0;32m   1219\u001b[0m     \u001b[38;5;66;03m# when opening a named pipe in SFM_WRITE mode.\u001b[39;00m\n\u001b[0;32m   1220\u001b[0m     \u001b[38;5;66;03m# See http://github.com/erikd/libsndfile/issues/77.\u001b[39;00m\n\u001b[0;32m   1221\u001b[0m     \u001b[38;5;28mself\u001b[39m\u001b[38;5;241m.\u001b[39m_info\u001b[38;5;241m.\u001b[39mframes \u001b[38;5;241m=\u001b[39m \u001b[38;5;241m0\u001b[39m\n",
      "\u001b[1;31mLibsndfileError\u001b[0m: Error opening 'datos/JPDP001.wav': System error."
     ]
    }
   ],
   "source": [
    "x, fs = sf.read('datos/JPDP001.wav')# Lee un archivo .wav\n"
   ]
  },
  {
   "cell_type": "code",
   "execution_count": null,
   "id": "3fe45707",
   "metadata": {},
   "outputs": [],
   "source": []
  },
  {
   "cell_type": "code",
   "execution_count": null,
   "id": "14640b5b",
   "metadata": {},
   "outputs": [],
   "source": [
    "x, fs = sf.read('datos/JPDP001.wav')# Lee un archivo .wav\n",
    "x = x.T[0] #Selecciona solo un canal de grabación\n",
    "sf.write('temp.wav',x,fs)\n",
    "print(fs)\n",
    "x"
   ]
  },
  {
   "cell_type": "markdown",
   "id": "72a4fdf4",
   "metadata": {},
   "source": [
    "Observe que la señal está representada por una lista de números reales."
   ]
  },
  {
   "cell_type": "code",
   "execution_count": null,
   "id": "19ab7672",
   "metadata": {},
   "outputs": [],
   "source": [
    "plt.figure(figsize=(12,4))\n",
    "t = np.arange(len(x)) / fs\n",
    "plt.plot(t, x)\n",
    "plt.xlabel(r'$t$ en s')\n",
    "plt.ylabel(r'$x(t)$')\n",
    "plt.axis([0, t[-1], -1, 1]);\n",
    "plt.grid()\n",
    "print(len(x),' muestras')"
   ]
  },
  {
   "cell_type": "markdown",
   "id": "55ecdcb3",
   "metadata": {},
   "source": [
    "La gráfica no muestra detalles que permitan verificar la naturaleza periódica de la señal, por lo cual se grafíca un tramo más corto."
   ]
  },
  {
   "cell_type": "code",
   "execution_count": null,
   "id": "5cdc2ef1",
   "metadata": {},
   "outputs": [],
   "source": [
    "rango = [0.75,0.8]\n",
    "plt.figure(figsize=(12,4))\n",
    "t = np.arange(len(x)) / fs\n",
    "plt.plot(t, x)\n",
    "plt.xlabel(r'$t$ en s')\n",
    "plt.ylabel(r'$x(t)$')\n",
    "plt.xlim(rango)\n",
    "plt.grid()"
   ]
  },
  {
   "cell_type": "markdown",
   "id": "ce630db1",
   "metadata": {},
   "source": [
    "Aceptando que esta señal es periódica, resulta interesante saber qué \"vibraciones puras\" componen tal sonido.\n",
    "\n",
    "Las **series de Fourier** permiten analizar la composición espectral de las señales periódicas de tiempo contínuo, pero este análisis requiere conocer el periodo de la señal que se busca analizar.\n",
    "\n",
    "La **Transformada de Fourier** permite analizar la composición espectral de las señales no periódicas de tiempo contínuo. La señal que se ha grabado está definida solamente en el lapso de tiempo que dura la grabación, por lo cual esta herramienta puede brindar información sobre la composición espectral de la señal.\n",
    "\n",
    "La señal que se tiene es una señal de tiempo discreto con un periodo de muestreo $t_s = 1/f_s$. Por esta razón se usará una aproximación de la **Transformada de Fourier** para señales de tiempo discreto denominada **Transformada rápida de Fourier** ([FFT](https://en.wikipedia.org/wiki/Fast_Fourier_transform)). \n",
    "\n"
   ]
  },
  {
   "cell_type": "code",
   "execution_count": null,
   "id": "31ce4055",
   "metadata": {},
   "outputs": [],
   "source": [
    "nel = len(x)\n",
    "X_fft = fft(x) # calculate fourier transform (complex numbers list)\n",
    "f = np.linspace(0,fs,nel)\n",
    "X_fft"
   ]
  },
  {
   "cell_type": "markdown",
   "id": "59cefe2e",
   "metadata": {},
   "source": [
    "Observe que la transformada de Fourier de la señal está representada por una lista de números complejos."
   ]
  },
  {
   "cell_type": "code",
   "execution_count": null,
   "id": "814bc47c",
   "metadata": {},
   "outputs": [],
   "source": [
    "plt.figure(figsize=(12,4))\n",
    "plt.plot(f,abs(X_fft)) \n",
    "plt.xlabel(r'$f$ en Hz')\n",
    "plt.ylabel(r'$|X(f)|$')\n",
    "plt.grid()"
   ]
  },
  {
   "cell_type": "markdown",
   "id": "2a158bd9",
   "metadata": {},
   "source": [
    "Debido a las características de las señales de tiempo discreto, existe simetría y periodicidad en los espectros, por lo cual solo se tendrá en cuenta la primera mitad de este."
   ]
  },
  {
   "cell_type": "code",
   "execution_count": null,
   "id": "009bebfc",
   "metadata": {},
   "outputs": [],
   "source": [
    "plt.figure(figsize=(12,4))\n",
    "plt.plot(f,abs(X_fft))\n",
    "plt.xlim([0,fs/2])\n",
    "plt.xlabel(r'$f$ en Hz')\n",
    "plt.ylabel(r'$|X(f)|$')\n",
    "plt.grid()\n",
    "\n"
   ]
  },
  {
   "cell_type": "markdown",
   "id": "6a0000aa",
   "metadata": {},
   "source": [
    "La gráfica no muestra detalles de la composición espectral de la señal, por lo cual se visualizará el espectro hasta una frecuencia apropiada para la visualización."
   ]
  },
  {
   "cell_type": "code",
   "execution_count": null,
   "id": "7eb77613",
   "metadata": {},
   "outputs": [],
   "source": [
    "f_max_vis = 2500\n",
    "plt.figure(figsize=(12,4))\n",
    "plt.plot(f,abs(X_fft)) \n",
    "\n",
    "plt.xlabel(r'$f$ en Hz')\n",
    "plt.ylabel(r'$|X(f)|$')\n",
    "plt.grid()\n",
    "plt.xlim([0,1200])\n"
   ]
  },
  {
   "cell_type": "markdown",
   "id": "a1fbd2e7",
   "metadata": {},
   "source": [
    "**¿Cómo suena?**\n",
    "\n",
    "Este es el sonido visualizado [temp.wav](temp.wav)"
   ]
  },
  {
   "cell_type": "markdown",
   "id": "21bfd629",
   "metadata": {},
   "source": [
    "## Cambios en el espectro\n",
    "\n",
    "Debido a la dualidad de la **Transformada de Fourier**, se espera que los cambios que se realicen en el dominio de las frecuencuas tengan efecto el el dominio temporal. Recuerde las operaciones equivalentes entre los dos dominios.\n",
    "\n",
    "Defina una función de transformación a partir de una frecuencia $f_M$ arbitraria."
   ]
  },
  {
   "cell_type": "code",
   "execution_count": null,
   "id": "dd79afb3",
   "metadata": {},
   "outputs": [],
   "source": [
    "fm = 850\n",
    "fM = 1100\n",
    "\"\"\"\n",
    "for ind,val in enumerate(f):\n",
    "    if val < fM:\n",
    "        funcion[ind]=1.0\n",
    "    else:\n",
    "        funcion[ind]=0.0\n",
    "\"\"\"    \n",
    "funcion  = np.where((f<fM)&(f>fm),1,0)\n",
    "\n",
    "\n",
    "funcion = np.flip(funcion) + funcion \n",
    "plt.figure(figsize=(12,4))\n",
    "plt.plot(f,(funcion)) \n",
    "plt.xlabel(r'$f$ en Hz')\n",
    "plt.ylabel(r'$|X(f)|$')\n",
    "plt.grid()"
   ]
  },
  {
   "cell_type": "markdown",
   "id": "4adbc06e",
   "metadata": {},
   "source": [
    "Afecte el espectro de la señal con la función que acaba de definir."
   ]
  },
  {
   "cell_type": "code",
   "execution_count": null,
   "id": "00817965",
   "metadata": {},
   "outputs": [],
   "source": [
    "X_procesado_fft = X_fft*funcion\n",
    "plt.figure(figsize=(12,4))\n",
    "plt.plot(f,abs(X_fft),f,abs(X_procesado_fft)) \n",
    "plt.legend(['Original','Procesada'])\n",
    "plt.xlabel(r'$f$ en Hz')\n",
    "plt.ylabel(r'$|X(f)|$')\n",
    "plt.grid()\n",
    "plt.xlim([0,5000])"
   ]
  },
  {
   "cell_type": "markdown",
   "id": "b000ca41",
   "metadata": {},
   "source": [
    "Se lleva el nuevo espectro al dominio del tiempo"
   ]
  },
  {
   "cell_type": "code",
   "execution_count": null,
   "id": "39970a0c",
   "metadata": {},
   "outputs": [],
   "source": [
    "x_procesado = ifft(X_procesado_fft)\n",
    "x_procesado"
   ]
  },
  {
   "cell_type": "code",
   "execution_count": null,
   "id": "e832e4a7",
   "metadata": {},
   "outputs": [],
   "source": [
    "x_procesado = ifft(X_procesado_fft)\n",
    "x_procesado = x_procesado.real\n",
    "#x_procesado\n",
    "sf.write('temp2.wav',x_procesado,fs)\n",
    "x_procesado"
   ]
  },
  {
   "cell_type": "code",
   "execution_count": null,
   "id": "c8fa86b0",
   "metadata": {},
   "outputs": [],
   "source": [
    "plt.figure(figsize=(12,4))\n",
    "t = np.arange(len(x)) / fs\n",
    "plt.plot(t, x,\n",
    "        t, x_procesado)\n",
    "plt.xlabel(r'$t$ en s')\n",
    "plt.ylabel(r'$x(t)$')\n",
    "plt.legend(['Original','Procesada'])\n",
    "plt.xlim([0.75,0.8])\n",
    "\n",
    "plt.grid()"
   ]
  },
  {
   "cell_type": "markdown",
   "id": "2353fd7a",
   "metadata": {},
   "source": [
    "**¿Cómo suena?**\n",
    "\n",
    "Este es el sonido visualizado [temp2.wav](temp2.wav)"
   ]
  },
  {
   "cell_type": "code",
   "execution_count": null,
   "id": "a606be79",
   "metadata": {},
   "outputs": [],
   "source": []
  },
  {
   "cell_type": "markdown",
   "id": "1763e0be",
   "metadata": {},
   "source": [
    "## Actividad\n",
    "\n",
    "1. Anallice el espectro de dos sonidos diferentes $x_1$ y $x_2$.\n",
    "2.Analice el espectro del sonido $x_3$ producido por sumar los dos sonidos anteriores.\n",
    "3. Cree un filtro que elimine dos armónicos de alta frecuencia que considere relevantes para la señal sumada$x_3$.\n",
    "4. Analice el efecto del filtro sobre las tres señales $x_1$, $x_2$ y $x_3$."
   ]
  },
  {
   "cell_type": "code",
   "execution_count": null,
   "id": "0ff51dde",
   "metadata": {},
   "outputs": [],
   "source": [
    "import sounddevice as sd\n",
    "from scipy.io.wavfile import write\n",
    "\n",
    "fs = 44100  # Frecuencia de muestreo\n",
    "duracion = 5  # Duración de la grabación\n",
    "x1 = sd.rec(int(duracion * fs),\n",
    "           samplerate=fs,\n",
    "           channels=1)\n",
    "# \"duracion\" segundos grabados en un canal\n",
    "# frecuencia de muestreo \"fs\"\n",
    "sd.wait()  # Espera mientras se hace la grabación\n",
    "\n",
    "write('JPDP_s1.wav', fs, x1)  # guarda x en .WAV\n"
   ]
  },
  {
   "cell_type": "code",
   "execution_count": null,
   "id": "1140f08b",
   "metadata": {},
   "outputs": [],
   "source": [
    "\n",
    "x2 = sd.rec(int(duracion * fs),\n",
    "           samplerate=fs,\n",
    "           channels=1)\n",
    "# \"duracion\" segundos grabados en un canal\n",
    "# frecuencia de muestreo \"fs\"\n",
    "sd.wait()  # Espera mientras se hace la grabación\n",
    "\n",
    "write('JPDP_s2.wav', fs, x2)  # guarda x en .WAV\n"
   ]
  },
  {
   "cell_type": "code",
   "execution_count": null,
   "id": "f05bc7c6",
   "metadata": {},
   "outputs": [],
   "source": [
    "write('JPDP_s12.wav', fs, x1 + x2)  # guarda x en .WAV\n"
   ]
  },
  {
   "cell_type": "code",
   "execution_count": null,
   "id": "730d99da",
   "metadata": {},
   "outputs": [],
   "source": []
  }
 ],
 "metadata": {
  "kernelspec": {
   "display_name": "Python 3 (ipykernel)",
   "language": "python",
   "name": "python3"
  },
  "language_info": {
   "codemirror_mode": {
    "name": "ipython",
    "version": 3
   },
   "file_extension": ".py",
   "mimetype": "text/x-python",
   "name": "python",
   "nbconvert_exporter": "python",
   "pygments_lexer": "ipython3",
   "version": "3.10.9"
  },
  "latex_envs": {
   "LaTeX_envs_menu_present": true,
   "autoclose": false,
   "autocomplete": true,
   "bibliofile": "biblio.bib",
   "cite_by": "apalike",
   "current_citInitial": 1,
   "eqLabelWithNumbers": true,
   "eqNumInitial": 0,
   "hotkeys": {
    "equation": "Ctrl-E",
    "itemize": "Ctrl-I"
   },
   "labels_anchors": false,
   "latex_user_defs": false,
   "report_style_numbering": false,
   "user_envs_cfg": false
  },
  "varInspector": {
   "cols": {
    "lenName": 16,
    "lenType": 16,
    "lenVar": 40
   },
   "kernels_config": {
    "python": {
     "delete_cmd_postfix": "",
     "delete_cmd_prefix": "del ",
     "library": "var_list.py",
     "varRefreshCmd": "print(var_dic_list())"
    },
    "r": {
     "delete_cmd_postfix": ") ",
     "delete_cmd_prefix": "rm(",
     "library": "var_list.r",
     "varRefreshCmd": "cat(var_dic_list()) "
    }
   },
   "types_to_exclude": [
    "module",
    "function",
    "builtin_function_or_method",
    "instance",
    "_Feature"
   ],
   "window_display": false
  }
 },
 "nbformat": 4,
 "nbformat_minor": 5
}
