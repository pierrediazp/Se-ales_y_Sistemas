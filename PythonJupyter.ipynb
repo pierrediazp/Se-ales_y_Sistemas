{
 "cells": [
  {
   "cell_type": "markdown",
   "metadata": {},
   "source": [
    "# Python y Jupyter Notebooks / Google colab\n",
    "\n"
   ]
  },
  {
   "cell_type": "markdown",
   "metadata": {},
   "source": [
    "## Sobre Jupyter\n",
    "* Antes de comenzar, explore la interfaz ofrecida por Jupyter Notebook en \"Help, User Interface Tour\". Observe que en dicho menú puede encontrar otras ayudas disponibles.\n",
    "\n",
    "* Los comentarios en el código comienzan con `#` y el interprete ignora estas lineas.\n",
    "\n",
    "* Los archivos de programas de Python tienen extesión \"`.py`\", por ejemplo, el archivo \"`programa01.py`\" estaría compuesto por sentencias Python organizadas por cada linea.\n",
    "\n",
    "* Los Notebooks de Jupyter permiten desarrollar código con formatos de salida.  Requiere que se ejecute sobre un servidor de notebook IPython. Los Notebooks tienen extensión \"`.ipynb`\", por ejemplo, el archivo \"`cuaderno01.ipynb`\".\n",
    "\n",
    "* Los cuadernos combinan <strong>código</strong>, <strong>texto enriquecido</strong>, <strong>imágenes</strong>, <strong>HTML</strong>, <strong>LaTeX</strong>, etc."
   ]
  },
  {
   "cell_type": "markdown",
   "metadata": {},
   "source": [
    "## Sobre Colab\n",
    "\n",
    "* `Colaboratory` es un servcio de `Google Research` que permite  escribir y ejecutar código de Python en un navegador sin realizar configuración y sin costo.\n",
    "\n",
    "* Los cuadernos de Colab se almacenan en Google Drive. Más información en <a href=\"/notebooks/basic_features_overview.ipynb\">Información general sobre Colab</a>.\n",
    "\n",
    "* Los cuadernos de Colab son cuadernos de Jupyter alojados en el servicio de Google. Más información en <a href=\"https://www.jupyter.org\">jupyter.org</a>.\n",
    "\n",
    "*  Los cuadernos de Colab ejecutan código en los servidores en la nube de Google."
   ]
  },
  {
   "cell_type": "markdown",
   "metadata": {},
   "source": [
    "---------------"
   ]
  },
  {
   "cell_type": "markdown",
   "metadata": {},
   "source": [
    "Para evaluar una celda con código (como la siguiente), haga click en la celda y presione \"`Shift + Enter`\" o \"`Ctrl + Enter`\".\n",
    "\n"
   ]
  },
  {
   "cell_type": "code",
   "execution_count": 4,
   "metadata": {},
   "outputs": [
    {
     "data": {
      "text/plain": [
       "25"
      ]
     },
     "execution_count": 4,
     "metadata": {},
     "output_type": "execute_result"
    }
   ],
   "source": [
    "a = 5 # Se asigna un valor a la variable \"a\"\n",
    "b = 2 # Se asigna un valor a la variable \"b\"\n",
    "a**b   # Opera con \"a\" y \"b\""
   ]
  },
  {
   "cell_type": "markdown",
   "metadata": {},
   "source": [
    "## Variables"
   ]
  },
  {
   "cell_type": "code",
   "execution_count": 12,
   "metadata": {
    "scrolled": true
   },
   "outputs": [
    {
     "name": "stdout",
     "output_type": "stream",
     "text": [
      "Help on class type in module builtins:\n",
      "\n",
      "class type(object)\n",
      " |  type(object_or_name, bases, dict)\n",
      " |  type(object) -> the object's type\n",
      " |  type(name, bases, dict) -> a new type\n",
      " |  \n",
      " |  Methods defined here:\n",
      " |  \n",
      " |  __call__(self, /, *args, **kwargs)\n",
      " |      Call self as a function.\n",
      " |  \n",
      " |  __delattr__(self, name, /)\n",
      " |      Implement delattr(self, name).\n",
      " |  \n",
      " |  __dir__(self, /)\n",
      " |      Specialized __dir__ implementation for types.\n",
      " |  \n",
      " |  __getattribute__(self, name, /)\n",
      " |      Return getattr(self, name).\n",
      " |  \n",
      " |  __init__(self, /, *args, **kwargs)\n",
      " |      Initialize self.  See help(type(self)) for accurate signature.\n",
      " |  \n",
      " |  __instancecheck__(self, instance, /)\n",
      " |      Check if an object is an instance.\n",
      " |  \n",
      " |  __repr__(self, /)\n",
      " |      Return repr(self).\n",
      " |  \n",
      " |  __setattr__(self, name, value, /)\n",
      " |      Implement setattr(self, name, value).\n",
      " |  \n",
      " |  __sizeof__(self, /)\n",
      " |      Return memory consumption of the type object.\n",
      " |  \n",
      " |  __subclasscheck__(self, subclass, /)\n",
      " |      Check if a class is a subclass.\n",
      " |  \n",
      " |  __subclasses__(self, /)\n",
      " |      Return a list of immediate subclasses.\n",
      " |  \n",
      " |  mro(self, /)\n",
      " |      Return a type's method resolution order.\n",
      " |  \n",
      " |  ----------------------------------------------------------------------\n",
      " |  Class methods defined here:\n",
      " |  \n",
      " |  __prepare__(...)\n",
      " |      __prepare__() -> dict\n",
      " |      used to create the namespace for the class statement\n",
      " |  \n",
      " |  ----------------------------------------------------------------------\n",
      " |  Static methods defined here:\n",
      " |  \n",
      " |  __new__(*args, **kwargs)\n",
      " |      Create and return a new object.  See help(type) for accurate signature.\n",
      " |  \n",
      " |  ----------------------------------------------------------------------\n",
      " |  Data descriptors defined here:\n",
      " |  \n",
      " |  __abstractmethods__\n",
      " |  \n",
      " |  __dict__\n",
      " |  \n",
      " |  __text_signature__\n",
      " |  \n",
      " |  ----------------------------------------------------------------------\n",
      " |  Data and other attributes defined here:\n",
      " |  \n",
      " |  __base__ = <class 'object'>\n",
      " |      The most base type\n",
      " |  \n",
      " |  __bases__ = (<class 'object'>,)\n",
      " |  \n",
      " |  __basicsize__ = 864\n",
      " |  \n",
      " |  __dictoffset__ = 264\n",
      " |  \n",
      " |  __flags__ = -2146675712\n",
      " |  \n",
      " |  __itemsize__ = 40\n",
      " |  \n",
      " |  __mro__ = (<class 'type'>, <class 'object'>)\n",
      " |  \n",
      " |  __weakrefoffset__ = 368\n",
      "\n"
     ]
    }
   ],
   "source": [
    "help(type)"
   ]
  },
  {
   "cell_type": "markdown",
   "metadata": {},
   "source": [
    "### Nombres"
   ]
  },
  {
   "cell_type": "markdown",
   "metadata": {},
   "source": [
    "Pueden contener letras sin incluir \"`ñ`\" o \"`Ñ`\", en minúscula (`a-z`), en mayúscula (`A-Z`), números (`0-9`) y el caracter especial \"`_`\".\n",
    "\n",
    "Deben comenzar con una letra.\n",
    "\n"
   ]
  },
  {
   "cell_type": "markdown",
   "metadata": {},
   "source": [
    "### Palabras prohibidas"
   ]
  },
  {
   "cell_type": "markdown",
   "metadata": {},
   "source": [
    "Las siguientes palabras son prohibidas para nombrar, pues Python las usa como instrucciones:\n",
    "\n",
    "|        |        |        |         |       |          |\n",
    "|--------|--------|--------|---------|-------|----------|\n",
    "| and    | as     | assert | break   | class | continue |\n",
    "| def    | elif   | else   | except  | exec  | finally  | \n",
    "| for    | global | if     | import  | in    | is       |\n",
    "| lambda | not    | or     | pass    | print | raise    |\n",
    "| return | try    | while  | with    | yield | del      |\n",
    "| from   |        |        |         |       |          |\n",
    "\n",
    "Por ejemplo, `print` es el comando para mostrar contenido en pantalla.*"
   ]
  },
  {
   "cell_type": "code",
   "execution_count": 9,
   "metadata": {},
   "outputs": [
    {
     "name": "stdout",
     "output_type": "stream",
     "text": [
      "Hola a todos - y todas\n"
     ]
    }
   ],
   "source": [
    "# uso de print\n",
    "print('Hola a todos' +' - ' + \"y todas\")"
   ]
  },
  {
   "cell_type": "markdown",
   "metadata": {},
   "source": [
    "### Asignaciones"
   ]
  },
  {
   "cell_type": "markdown",
   "metadata": {},
   "source": [
    "Al asignar un valor a una variable usando el símbolo `=` se crea esa variable:"
   ]
  },
  {
   "cell_type": "code",
   "execution_count": 10,
   "metadata": {},
   "outputs": [
    {
     "name": "stdout",
     "output_type": "stream",
     "text": [
      "2\n"
     ]
    }
   ],
   "source": [
    "# Asignación de un entero\n",
    "x1 = 2\n",
    "print(x1)"
   ]
  },
  {
   "cell_type": "code",
   "execution_count": 9,
   "metadata": {},
   "outputs": [
    {
     "name": "stdout",
     "output_type": "stream",
     "text": [
      "<class 'int'>\n"
     ]
    }
   ],
   "source": [
    "# type Verifica el tipo de variable \n",
    "print(type(x1))"
   ]
  },
  {
   "cell_type": "code",
   "execution_count": 10,
   "metadata": {},
   "outputs": [
    {
     "name": "stdout",
     "output_type": "stream",
     "text": [
      "5.0 <class 'float'>\n"
     ]
    }
   ],
   "source": [
    "# Asignación de un real\n",
    "x2 = 5.0\n",
    "print(x2,type(x2))"
   ]
  },
  {
   "cell_type": "code",
   "execution_count": 11,
   "metadata": {},
   "outputs": [
    {
     "name": "stdout",
     "output_type": "stream",
     "text": [
      "cinco   <class 'str'>\n"
     ]
    }
   ],
   "source": [
    "# Asignación de un string\n",
    "x3 = \"cinco\"\n",
    "print(x3,\" \",type(x3))"
   ]
  },
  {
   "cell_type": "code",
   "execution_count": 12,
   "metadata": {},
   "outputs": [
    {
     "name": "stdout",
     "output_type": "stream",
     "text": [
      "Ahora x1 tiene el valor 0.5 y ha cambiado el tipo a  <class 'float'>\n"
     ]
    }
   ],
   "source": [
    "# Reasignación de una variable \n",
    "x1 = 0.5\n",
    "print(\"Ahora x1 tiene el valor \" + str(x1) + \" y ha cambiado el tipo a \", type(x1))"
   ]
  },
  {
   "cell_type": "code",
   "execution_count": 14,
   "metadata": {},
   "outputs": [
    {
     "name": "stdout",
     "output_type": "stream",
     "text": [
      " bT =  True <class 'bool'> \n",
      " bF =  False <class 'bool'>\n"
     ]
    }
   ],
   "source": [
    "# Asignación de un booleano\n",
    "bT = True\n",
    "bF = False\n",
    "print(\" bT = \", bT,type(bT),\"\\n\",\"bF = \", bF,type(bF))"
   ]
  },
  {
   "cell_type": "code",
   "execution_count": 13,
   "metadata": {
    "scrolled": false
   },
   "outputs": [
    {
     "name": "stdout",
     "output_type": "stream",
     "text": [
      "(4+5j)   <class 'complex'>\n"
     ]
    }
   ],
   "source": [
    "# Asignación de un complejo\n",
    "x4 = 4.0 + 5j\n",
    "print(x4,\" \",type(x4))"
   ]
  },
  {
   "cell_type": "code",
   "execution_count": 16,
   "metadata": {},
   "outputs": [
    {
     "data": {
      "text/plain": [
       "(4-5j)"
      ]
     },
     "execution_count": 16,
     "metadata": {},
     "output_type": "execute_result"
    }
   ],
   "source": [
    "x4.conjugate()"
   ]
  },
  {
   "cell_type": "markdown",
   "metadata": {},
   "source": [
    "Un número complejo no puede ser convertido a un número flotante o a un entero. Necesitamos usar `z.real`, o bien `z.imag`, para extraer la parte que deseamos del número complejo z:"
   ]
  },
  {
   "cell_type": "markdown",
   "metadata": {},
   "source": [
    "## Operadores aritméticos, relacionales y booleanos\n",
    "\n",
    "| Símbolo  | Operación                       | Ejemplo            | \n",
    "|----------|---------------------------------|--------------------|\n",
    "| +        | Suma                            | `2+3`              |\n",
    "| -        | Resta                           | `3-6.7`            |\n",
    "| *        | Multiplicación                  | `4*5.5`            |\n",
    "| /        | División                        | `3/2`              |\n",
    "| //       | División entera                 | `3//2`              |\n",
    "| **       | Potencia                        | `5**2`             |\n",
    "| ==       | Comparación de igualdad         | `4==2  `           |\n",
    "| >        | Comparación de mayor            | `4>2  `            |\n",
    "| >=       | Comparación de mayor o igual    | `4>=2  `           |\n",
    "| <        | Comparación de menor            | `4<2  `            |\n",
    "| <=       | Comparación de menor o igual    | `4<=2  `           |\n",
    "| not      | Negación booleana               | `not False  `      |\n",
    "| or       | O booleana                      | `True or False  `  |\n",
    "| and      | Y booleana                      | `True and False  ` |\n"
   ]
  },
  {
   "cell_type": "code",
   "execution_count": 19,
   "metadata": {},
   "outputs": [
    {
     "data": {
      "text/plain": [
       "False"
      ]
     },
     "execution_count": 19,
     "metadata": {},
     "output_type": "execute_result"
    }
   ],
   "source": [
    "x1==4"
   ]
  },
  {
   "cell_type": "code",
   "execution_count": 21,
   "metadata": {},
   "outputs": [],
   "source": [
    "x2 = 3.14"
   ]
  },
  {
   "cell_type": "code",
   "execution_count": 22,
   "metadata": {},
   "outputs": [
    {
     "data": {
      "text/plain": [
       "3.14"
      ]
     },
     "execution_count": 22,
     "metadata": {},
     "output_type": "execute_result"
    }
   ],
   "source": [
    "x1 = x2\n",
    "x1"
   ]
  },
  {
   "cell_type": "code",
   "execution_count": 20,
   "metadata": {},
   "outputs": [
    {
     "data": {
      "text/plain": [
       "5.0"
      ]
     },
     "execution_count": 20,
     "metadata": {},
     "output_type": "execute_result"
    }
   ],
   "source": [
    "x1"
   ]
  },
  {
   "cell_type": "markdown",
   "metadata": {},
   "source": [
    "## Tipos compuestos\n",
    "\n",
    "### Strings\n",
    "\n",
    "El tipo de variables para almacenar mensajes de texto. "
   ]
  },
  {
   "cell_type": "code",
   "execution_count": null,
   "metadata": {},
   "outputs": [],
   "source": []
  },
  {
   "cell_type": "code",
   "execution_count": 14,
   "metadata": {},
   "outputs": [
    {
     "name": "stdout",
     "output_type": "stream",
     "text": [
      "<class 'str'>\n"
     ]
    }
   ],
   "source": [
    "s = \"Hola    mundo\"\n",
    "print(type(s))"
   ]
  },
  {
   "cell_type": "code",
   "execution_count": 16,
   "metadata": {},
   "outputs": [
    {
     "data": {
      "text/plain": [
       "13"
      ]
     },
     "execution_count": 16,
     "metadata": {},
     "output_type": "execute_result"
    }
   ],
   "source": [
    "# longitud\n",
    "len(s)"
   ]
  },
  {
   "cell_type": "code",
   "execution_count": 17,
   "metadata": {},
   "outputs": [
    {
     "name": "stdout",
     "output_type": "stream",
     "text": [
      "Hola    universo\n",
      "Hola    mundo\n"
     ]
    }
   ],
   "source": [
    "# reemplaza una parte\n",
    "s2 = s.replace(\"mundo\", \"universo\")\n",
    "print(s2)\n",
    "print(s)\n"
   ]
  },
  {
   "cell_type": "code",
   "execution_count": 30,
   "metadata": {},
   "outputs": [
    {
     "data": {
      "text/plain": [
       "'ola    mundo'"
      ]
     },
     "execution_count": 30,
     "metadata": {},
     "output_type": "execute_result"
    }
   ],
   "source": [
    "s[1:]"
   ]
  },
  {
   "cell_type": "code",
   "execution_count": 37,
   "metadata": {},
   "outputs": [
    {
     "name": "stdout",
     "output_type": "stream",
     "text": [
      "oamno\n"
     ]
    }
   ],
   "source": [
    "print(s[1::2])   # Desde la pisición 0 hasta la posición antes de la 3\n"
   ]
  },
  {
   "cell_type": "code",
   "execution_count": 38,
   "metadata": {},
   "outputs": [
    {
     "name": "stdout",
     "output_type": "stream",
     "text": [
      "Hola mundo\n",
      "H\n",
      "Hol\n",
      "la mu\n",
      "Hola mu\n",
      "ndo\n",
      "ola mund\n",
      "oamn\n",
      "Hl ud\n"
     ]
    }
   ],
   "source": [
    "# indexación a posiciones dentro del string mediante []\n",
    "print(s)        # El string completo\n",
    "print(s[0])     # La posición 0 (la primera)\n",
    "print(s[0:3])   # Desde la pisición 0 hasta la posición antes de la 3\n",
    "print(s[2:7])   # Desde la pisición 2 hasta la posición antes de la 7\n",
    "print(s[:7])    # Todo hasta la posición antes de la 7\n",
    "print(s[7:])    # Desde la posición 7 hasta el final\n",
    "print(s[1:-1])  # Desde la posición 1 hasta 1 antes del final\n",
    "print(s[1:8:2]) # Desde la posición 1 hasta la posición 8 cada 2\n",
    "print(s[0::2])  # Desde la posición 0 hasta la posición final cada 2\n"
   ]
  },
  {
   "cell_type": "markdown",
   "metadata": {},
   "source": [
    "### Listas\n",
    "\n",
    "Son listas de elementos que pueden ser diferente tipo y pueden ser indexados.\n",
    "\n",
    "La sintaxis para crear listas en Python es `[elemento 0, elemento 1, ...]`:"
   ]
  },
  {
   "cell_type": "code",
   "execution_count": 33,
   "metadata": {},
   "outputs": [
    {
     "name": "stdout",
     "output_type": "stream",
     "text": [
      "[5, 8, 2, 9] <class 'list'>\n",
      "5\n",
      "[5, 8]\n"
     ]
    },
    {
     "ename": "IndexError",
     "evalue": "list index out of range",
     "output_type": "error",
     "traceback": [
      "\u001b[1;31m---------------------------------------------------------------------------\u001b[0m",
      "\u001b[1;31mIndexError\u001b[0m                                Traceback (most recent call last)",
      "\u001b[1;32m<ipython-input-33-06167bd2d0e6>\u001b[0m in \u001b[0;36m<module>\u001b[1;34m\u001b[0m\n\u001b[0;32m      5\u001b[0m \u001b[0mprint\u001b[0m\u001b[1;33m(\u001b[0m\u001b[0mlista1\u001b[0m\u001b[1;33m[\u001b[0m\u001b[1;36m0\u001b[0m\u001b[1;33m]\u001b[0m\u001b[1;33m)\u001b[0m\u001b[1;33m\u001b[0m\u001b[1;33m\u001b[0m\u001b[0m\n\u001b[0;32m      6\u001b[0m \u001b[0mprint\u001b[0m\u001b[1;33m(\u001b[0m\u001b[0mlista1\u001b[0m\u001b[1;33m[\u001b[0m\u001b[1;36m0\u001b[0m\u001b[1;33m:\u001b[0m\u001b[1;36m2\u001b[0m\u001b[1;33m]\u001b[0m\u001b[1;33m)\u001b[0m\u001b[1;33m\u001b[0m\u001b[1;33m\u001b[0m\u001b[0m\n\u001b[1;32m----> 7\u001b[1;33m \u001b[0mprint\u001b[0m\u001b[1;33m(\u001b[0m\u001b[0mlista1\u001b[0m\u001b[1;33m[\u001b[0m\u001b[1;36m5\u001b[0m\u001b[1;33m]\u001b[0m\u001b[1;33m)\u001b[0m \u001b[1;31m# la posición 5 no existe\u001b[0m\u001b[1;33m\u001b[0m\u001b[1;33m\u001b[0m\u001b[0m\n\u001b[0m",
      "\u001b[1;31mIndexError\u001b[0m: list index out of range"
     ]
    }
   ],
   "source": [
    "lista1 = [5,8,2,9]\n",
    "\n",
    "\n",
    "print(lista1,type(lista1))\n",
    "print(lista1[0])\n",
    "print(lista1[0:2])\n",
    "print(lista1[5]) # la posición 5 no existe"
   ]
  },
  {
   "cell_type": "code",
   "execution_count": 54,
   "metadata": {},
   "outputs": [
    {
     "data": {
      "text/plain": [
       "[3, 'dos', '432', (2-3j), [3.14], [5, 8, 2, 9], [3, 2, 5, 'a'], 5, 8, 2, 9]"
      ]
     },
     "execution_count": 54,
     "metadata": {},
     "output_type": "execute_result"
    }
   ],
   "source": [
    "lista2+lista1"
   ]
  },
  {
   "cell_type": "code",
   "execution_count": 34,
   "metadata": {},
   "outputs": [
    {
     "name": "stdout",
     "output_type": "stream",
     "text": [
      "[3, 'dos', '432', (2-3j), [3.14], [5, 8, 2, 9], [3, 2, 5, 'a']] <class 'list'>\n",
      "3\n",
      "[3, 'dos']\n",
      "s\n",
      "[5, 8, 2, 9]\n",
      "[3, 2, 5, 'a']\n",
      "5\n"
     ]
    }
   ],
   "source": [
    "lista2 = [3, 'dos', \"432\", 2-3j, [3.14], lista1, [3,2,5,'a']]\n",
    "\n",
    "print(lista2,type(lista2))\n",
    "print(lista2[0])\n",
    "print(lista2[0:2])\n",
    "print(lista2[1][2])\n",
    "print(lista2[5])\n",
    "print(lista2[6])\n",
    "print(lista2[6][2])\n"
   ]
  },
  {
   "cell_type": "code",
   "execution_count": 49,
   "metadata": {},
   "outputs": [
    {
     "name": "stdout",
     "output_type": "stream",
     "text": [
      "[3, 'dos', '432', (2-3j), [3.14], [5, 8, 2, 9], [3, 2, 5, 'a']]\n",
      "3.14\n"
     ]
    }
   ],
   "source": [
    "print(lista2)\n",
    "print(lista2[4][0])"
   ]
  },
  {
   "cell_type": "markdown",
   "metadata": {},
   "source": [
    "- Las listas juegan un rol primordial en Python y son, por ejemplo, usadas en bucles y otras estructuras de control de flujo.\n",
    "\n",
    "- Existen funciones convenientes para generar listas de varios tipos, por ejemplo la función `range`:"
   ]
  },
  {
   "cell_type": "code",
   "execution_count": 55,
   "metadata": {},
   "outputs": [
    {
     "name": "stdout",
     "output_type": "stream",
     "text": [
      "range(10, 36, 5) <class 'range'>\n",
      "\n",
      "6\n",
      "\n",
      "10\n",
      "15\n",
      "20\n",
      "25\n",
      "30\n",
      "35\n"
     ]
    },
    {
     "ename": "IndexError",
     "evalue": "range object index out of range",
     "output_type": "error",
     "traceback": [
      "\u001b[1;31m---------------------------------------------------------------------------\u001b[0m",
      "\u001b[1;31mIndexError\u001b[0m                                Traceback (most recent call last)",
      "\u001b[1;32m<ipython-input-55-1a157638c37f>\u001b[0m in \u001b[0;36m<module>\u001b[1;34m\u001b[0m\n\u001b[0;32m     14\u001b[0m \u001b[0mprint\u001b[0m\u001b[1;33m(\u001b[0m\u001b[0mlista3\u001b[0m\u001b[1;33m[\u001b[0m\u001b[1;36m4\u001b[0m\u001b[1;33m]\u001b[0m\u001b[1;33m)\u001b[0m\u001b[1;33m\u001b[0m\u001b[1;33m\u001b[0m\u001b[0m\n\u001b[0;32m     15\u001b[0m \u001b[0mprint\u001b[0m\u001b[1;33m(\u001b[0m\u001b[0mlista3\u001b[0m\u001b[1;33m[\u001b[0m\u001b[1;36m5\u001b[0m\u001b[1;33m]\u001b[0m\u001b[1;33m)\u001b[0m\u001b[1;33m\u001b[0m\u001b[1;33m\u001b[0m\u001b[0m\n\u001b[1;32m---> 16\u001b[1;33m \u001b[0mprint\u001b[0m\u001b[1;33m(\u001b[0m\u001b[0mlista3\u001b[0m\u001b[1;33m[\u001b[0m\u001b[1;36m6\u001b[0m\u001b[1;33m]\u001b[0m\u001b[1;33m)\u001b[0m\u001b[1;33m\u001b[0m\u001b[1;33m\u001b[0m\u001b[0m\n\u001b[0m",
      "\u001b[1;31mIndexError\u001b[0m: range object index out of range"
     ]
    }
   ],
   "source": [
    "desde = 10\n",
    "hasta = 36\n",
    "paso = 5\n",
    "\n",
    "lista3 = range(desde, hasta, paso)\n",
    "print(lista3,type(lista3))\n",
    "print()\n",
    "print(len(lista3))\n",
    "print()\n",
    "print(lista3[0])\n",
    "print(lista3[1])\n",
    "print(lista3[2])\n",
    "print(lista3[3])\n",
    "print(lista3[4])\n",
    "print(lista3[5])\n",
    "print(lista3[6])\n"
   ]
  },
  {
   "cell_type": "code",
   "execution_count": 52,
   "metadata": {},
   "outputs": [
    {
     "name": "stdout",
     "output_type": "stream",
     "text": [
      "[8, 5, 2]\n",
      "[5, 8, 2, 9]\n"
     ]
    }
   ],
   "source": [
    "print([lista1[1],lista1[0],lista1[2]])\n",
    "print(lista1)"
   ]
  },
  {
   "cell_type": "code",
   "execution_count": 53,
   "metadata": {},
   "outputs": [
    {
     "name": "stdout",
     "output_type": "stream",
     "text": [
      "[10, 15, 20, 25, 30, 35] <class 'list'>\n"
     ]
    }
   ],
   "source": [
    "print(list(range(desde, hasta, paso)),type(list(range(desde, hasta, paso))))"
   ]
  },
  {
   "cell_type": "code",
   "execution_count": 54,
   "metadata": {},
   "outputs": [
    {
     "data": {
      "text/plain": [
       "[-10, -9, -8, -7, -6, -5, -4, -3, -2, -1, 0, 1, 2, 3, 4, 5, 6, 7, 8, 9]"
      ]
     },
     "execution_count": 54,
     "metadata": {},
     "output_type": "execute_result"
    }
   ],
   "source": [
    "list(range(-10, 10))"
   ]
  },
  {
   "cell_type": "markdown",
   "metadata": {},
   "source": [
    "- La instrucción `list` puede convertir un elemento tipo `str` a uno tipo `list`."
   ]
  },
  {
   "cell_type": "code",
   "execution_count": 55,
   "metadata": {},
   "outputs": [
    {
     "name": "stdout",
     "output_type": "stream",
     "text": [
      "Hola Mundo <class 'str'>\n",
      "['H', 'o', 'l', 'a', ' ', 'M', 'u', 'n', 'd', 'o'] <class 'list'>\n"
     ]
    }
   ],
   "source": [
    "texto1 = \"Hola Mundo\"\n",
    "print(texto1,type(texto1))\n",
    "texto2 = list(texto1)\n",
    "print(texto2,type(texto2))\n"
   ]
  },
  {
   "cell_type": "markdown",
   "metadata": {},
   "source": [
    "- Las listas pueden ordenarse"
   ]
  },
  {
   "cell_type": "code",
   "execution_count": 56,
   "metadata": {},
   "outputs": [
    {
     "name": "stdout",
     "output_type": "stream",
     "text": [
      "[' ', 'H', 'M', 'a', 'd', 'l', 'n', 'o', 'o', 'u']\n"
     ]
    }
   ],
   "source": [
    "texto2.sort()# Observe que a la lista texto2 se le aplica el método sort() y lo actualiza\n",
    "print(texto2)"
   ]
  },
  {
   "cell_type": "code",
   "execution_count": null,
   "metadata": {},
   "outputs": [],
   "source": []
  },
  {
   "cell_type": "markdown",
   "metadata": {},
   "source": [
    "#### Agregando, insertando, modificando, y removiendo elementos de listas"
   ]
  },
  {
   "cell_type": "code",
   "execution_count": 57,
   "metadata": {},
   "outputs": [
    {
     "name": "stdout",
     "output_type": "stream",
     "text": [
      "['R', 'a', 'n', 'a']\n"
     ]
    }
   ],
   "source": [
    "# crea una nueva lista vacía\n",
    "lista4 = []\n",
    "\n",
    "# agrega un elemento a la lista, usando `append`\n",
    "lista4.append(\"R\")\n",
    "lista4.append(\"a\")\n",
    "lista4.append(\"n\")\n",
    "lista4.append(\"a\")\n",
    "\n",
    "print(lista4)"
   ]
  },
  {
   "cell_type": "markdown",
   "metadata": {},
   "source": [
    "Puede modificarse algunos elementos de la lista."
   ]
  },
  {
   "cell_type": "code",
   "execution_count": 58,
   "metadata": {},
   "outputs": [
    {
     "name": "stdout",
     "output_type": "stream",
     "text": [
      "['R', 'a', 'm', 'a']\n"
     ]
    }
   ],
   "source": [
    "lista4[2] = \"m\"\n",
    "\n",
    "print(lista4)"
   ]
  },
  {
   "cell_type": "code",
   "execution_count": 59,
   "metadata": {},
   "outputs": [
    {
     "name": "stdout",
     "output_type": "stream",
     "text": [
      "['C', 'a', 's', 'a']\n"
     ]
    }
   ],
   "source": [
    "lista4[0:3:2] = [\"C\", \"s\"] # los elementos desde 0 hasta 3 cada 2, [0 y 2], se cambian por C y s respectivamente\n",
    "\n",
    "print(lista4)"
   ]
  },
  {
   "cell_type": "markdown",
   "metadata": {},
   "source": [
    "Insertar un elemento en una posición específica `insert`"
   ]
  },
  {
   "cell_type": "code",
   "execution_count": 60,
   "metadata": {},
   "outputs": [
    {
     "name": "stdout",
     "output_type": "stream",
     "text": [
      "['L', 'C', 'a', 's', 'a']\n"
     ]
    }
   ],
   "source": [
    "lista4.insert(0, \"L\")\n",
    "\n",
    "print(lista4)"
   ]
  },
  {
   "cell_type": "code",
   "execution_count": 61,
   "metadata": {},
   "outputs": [
    {
     "name": "stdout",
     "output_type": "stream",
     "text": [
      "['L', 'a', 'C', 'a', 's', 'a']\n"
     ]
    }
   ],
   "source": [
    "lista4.insert(1, \"a\")\n",
    "print(lista4)\n"
   ]
  },
  {
   "cell_type": "code",
   "execution_count": 62,
   "metadata": {},
   "outputs": [
    {
     "name": "stdout",
     "output_type": "stream",
     "text": [
      "['L', 'a', ' ', 'C', 'a', 's', 'a']\n"
     ]
    }
   ],
   "source": [
    "lista4.insert(2, \" \")\n",
    "print(lista4)\n"
   ]
  },
  {
   "cell_type": "markdown",
   "metadata": {},
   "source": [
    "Eliminar el primer elemento con un valor específico usando 'remove'"
   ]
  },
  {
   "cell_type": "code",
   "execution_count": 63,
   "metadata": {},
   "outputs": [
    {
     "name": "stdout",
     "output_type": "stream",
     "text": [
      "Help on method_descriptor:\n",
      "\n",
      "remove(self, value, /)\n",
      "    Remove first occurrence of value.\n",
      "    \n",
      "    Raises ValueError if the value is not present.\n",
      "\n"
     ]
    }
   ],
   "source": [
    "help(list.remove)"
   ]
  },
  {
   "cell_type": "code",
   "execution_count": 64,
   "metadata": {},
   "outputs": [
    {
     "name": "stdout",
     "output_type": "stream",
     "text": [
      "['L', ' ', 'C', 'a', 's', 'a']\n"
     ]
    }
   ],
   "source": [
    "lista4.remove(\"a\")\n",
    "\n",
    "print(lista4)"
   ]
  },
  {
   "cell_type": "markdown",
   "metadata": {},
   "source": [
    "Eliminar un elemento en una posición específica usando `del`:"
   ]
  },
  {
   "cell_type": "code",
   "execution_count": 65,
   "metadata": {},
   "outputs": [
    {
     "name": "stdout",
     "output_type": "stream",
     "text": [
      "['L', ' ', 'C', 's', 'a']\n"
     ]
    }
   ],
   "source": [
    "del lista4[3]\n",
    "print(lista4)"
   ]
  },
  {
   "cell_type": "markdown",
   "metadata": {},
   "source": [
    "Puede introducir `help(list)` para más detalles, o leer la documentación en la red"
   ]
  },
  {
   "cell_type": "markdown",
   "metadata": {},
   "source": [
    "### Tuplas\n",
    "\n",
    "Tuplas son similares a las listas, excepto que no pueden ser modificadas una vez creadas, es decir, son *inmutables*. \n",
    "\n",
    "En Python, las tuplas son creadas usando la sintaxis `(elemento1, elemento2, elemento3, ...)`, o incluso `elemento1, elemento2, elemento3, ...`."
   ]
  },
  {
   "cell_type": "code",
   "execution_count": 66,
   "metadata": {},
   "outputs": [
    {
     "name": "stdout",
     "output_type": "stream",
     "text": [
      "(10, 20) <class 'tuple'>\n"
     ]
    }
   ],
   "source": [
    "punto = (10, 20)\n",
    "\n",
    "print(punto, type(punto))"
   ]
  },
  {
   "cell_type": "code",
   "execution_count": 67,
   "metadata": {},
   "outputs": [
    {
     "name": "stdout",
     "output_type": "stream",
     "text": [
      "(10, 20) <class 'tuple'>\n"
     ]
    }
   ],
   "source": [
    "punto = 10, 20\n",
    "\n",
    "print(punto, type(punto))"
   ]
  },
  {
   "cell_type": "markdown",
   "metadata": {},
   "source": [
    "Se puede separar una tupla asignándola a una lista de variables separadas por coma:"
   ]
  },
  {
   "cell_type": "code",
   "execution_count": 68,
   "metadata": {},
   "outputs": [
    {
     "name": "stdout",
     "output_type": "stream",
     "text": [
      "x = 10 <class 'int'>\n",
      "y = 20 <class 'int'>\n"
     ]
    }
   ],
   "source": [
    "x, y = punto\n",
    "\n",
    "print(\"x =\", x,type(x))\n",
    "print(\"y =\", y,type(y))"
   ]
  },
  {
   "cell_type": "markdown",
   "metadata": {},
   "source": [
    "Tratar de asignar un nuevo valor a un elemento de una tupla genera un error:"
   ]
  },
  {
   "cell_type": "code",
   "execution_count": 71,
   "metadata": {},
   "outputs": [
    {
     "ename": "TypeError",
     "evalue": "'tuple' object does not support item assignment",
     "output_type": "error",
     "traceback": [
      "\u001b[1;31m---------------------------------------------------------------------------\u001b[0m",
      "\u001b[1;31mTypeError\u001b[0m                                 Traceback (most recent call last)",
      "\u001b[1;32m<ipython-input-71-ea81113662c8>\u001b[0m in \u001b[0;36m<module>\u001b[1;34m\u001b[0m\n\u001b[1;32m----> 1\u001b[1;33m \u001b[0mpunto\u001b[0m\u001b[1;33m[\u001b[0m\u001b[1;36m1\u001b[0m\u001b[1;33m]\u001b[0m \u001b[1;33m=\u001b[0m \u001b[1;36m23\u001b[0m\u001b[1;33m\u001b[0m\u001b[1;33m\u001b[0m\u001b[0m\n\u001b[0m\u001b[0;32m      2\u001b[0m \u001b[1;31m# punto(0) = 54\u001b[0m\u001b[1;33m\u001b[0m\u001b[1;33m\u001b[0m\u001b[1;33m\u001b[0m\u001b[0m\n",
      "\u001b[1;31mTypeError\u001b[0m: 'tuple' object does not support item assignment"
     ]
    }
   ],
   "source": [
    "punto[1] = 23\n",
    "# punto(0) = 54"
   ]
  },
  {
   "cell_type": "markdown",
   "metadata": {},
   "source": [
    "### Diccionarios\n",
    "\n",
    "Los diccionarios son listas más amplias en las que cada elemento se define por un par clave-valor. La sintaxis de los diccionarios es `{clave1 : valor1, ...}`:"
   ]
  },
  {
   "cell_type": "code",
   "execution_count": 72,
   "metadata": {},
   "outputs": [
    {
     "name": "stdout",
     "output_type": "stream",
     "text": [
      "<class 'dict'>\n",
      "{'clave1': 1.0, 'clave2': True, 'clave3': 'hola', 1: 'algo', 2: [5, 8, 2, 9]}\n"
     ]
    }
   ],
   "source": [
    "parametros = {\"clave1\" : 1.0,\n",
    "              \"clave2\" : True,\n",
    "              \"clave3\" : \"hola\", \n",
    "              1 : \"algo\", \n",
    "              2 : lista1}\n",
    "\n",
    "print(type(parametros))\n",
    "print(parametros)"
   ]
  },
  {
   "cell_type": "code",
   "execution_count": 73,
   "metadata": {},
   "outputs": [
    {
     "data": {
      "text/plain": [
       "1.0"
      ]
     },
     "execution_count": 73,
     "metadata": {},
     "output_type": "execute_result"
    }
   ],
   "source": [
    "parametros[\"clave1\"]"
   ]
  },
  {
   "cell_type": "code",
   "execution_count": 74,
   "metadata": {},
   "outputs": [
    {
     "data": {
      "text/plain": [
       "'algo'"
      ]
     },
     "execution_count": 74,
     "metadata": {},
     "output_type": "execute_result"
    }
   ],
   "source": [
    "parametros[1]"
   ]
  },
  {
   "cell_type": "code",
   "execution_count": 75,
   "metadata": {},
   "outputs": [
    {
     "name": "stdout",
     "output_type": "stream",
     "text": [
      "clave1 --> 1.0\n",
      "clave2 --> True\n",
      "clave3 --> hola\n"
     ]
    }
   ],
   "source": [
    "print(\"clave1 --> \" + str(parametros[\"clave1\"]))\n",
    "print(\"clave2 --> \" + str(parametros[\"clave2\"]))\n",
    "print(\"clave3 --> \" + str(parametros[\"clave3\"]))"
   ]
  },
  {
   "cell_type": "code",
   "execution_count": 77,
   "metadata": {},
   "outputs": [
    {
     "name": "stdout",
     "output_type": "stream",
     "text": [
      "clave1 = A\n",
      "clave2 = False\n",
      "clave3 = hola\n",
      "clave4 = D\n",
      "{'clave1': 'A', 'clave2': False, 'clave3': 'hola', 1: 'algo', 2: [5, 8, 2, 9], 'clave4': 'D'}\n"
     ]
    }
   ],
   "source": [
    "parametros[\"clave1\"] = \"A\"\n",
    "parametros[\"clave2\"] = (4<2)\n",
    "\n",
    "# agrega una nueva entrada\n",
    "parametros[\"clave4\"] = \"D\"\n",
    "\n",
    "print(\"clave1 = \" + str(parametros[\"clave1\"]))\n",
    "print(\"clave2 = \" + str(parametros[\"clave2\"]))\n",
    "print(\"clave3 = \" + str(parametros[\"clave3\"]))\n",
    "print(\"clave4 = \" + str(parametros[\"clave4\"]))\n",
    "print(parametros)"
   ]
  },
  {
   "cell_type": "markdown",
   "metadata": {},
   "source": [
    "## Control de flujo"
   ]
  },
  {
   "cell_type": "markdown",
   "metadata": {},
   "source": [
    "### Condicionales: if, elif, else\n",
    "\n",
    "La sintaxis Python para la ejecución condicional de código usa las palabras clave `if`, `elif` (else if), `else`:\n",
    "\n",
    "- Los bloques del programa se definen por el símbolo \"`:`\" y su indentación (los espacios antes de cada linea).\n"
   ]
  },
  {
   "cell_type": "code",
   "execution_count": 80,
   "metadata": {},
   "outputs": [
    {
     "name": "stdout",
     "output_type": "stream",
     "text": [
      "afirmacion1 o afirmacion2 son falsas\n",
      "10\n"
     ]
    }
   ],
   "source": [
    "afirmacion1 = False\n",
    "afirmacion2 = False\n",
    "a = 0\n",
    "if (afirmacion1 and afirmacion2):\n",
    "    # Comprueba la afirmacion1\n",
    "    print(\"afirmacion1 es verdadera\")\n",
    "    # La tarea si la afirmacion1 es verdadera\n",
    "    a = 2\n",
    "elif afirmacion2:  \n",
    "    # Si la prueba de if es falsa, comprueba la afirmacion2\n",
    "    print(\"afirmacion2 es verdadera\")                   # Tarea si se cumple la condición anterior\n",
    "    a = 5   \n",
    "else:                                                  \n",
    "    print(\"afirmacion1 o afirmacion2 son falsas\")       # Tarea si jo se cumple la condición anterior\n",
    "    a = 10\n",
    "print(a)"
   ]
  },
  {
   "cell_type": "code",
   "execution_count": 1,
   "metadata": {},
   "outputs": [
    {
     "name": "stdout",
     "output_type": "stream",
     "text": [
      "digite su peso:82\n",
      "digite su estatura:1.83\n",
      "<class 'float'>\n",
      "peso normal\n",
      "Hecho\n"
     ]
    }
   ],
   "source": [
    "peso = float(input(\"digite su peso:\"))\n",
    "estatura = float(input(\"digite su estatura:\"))\n",
    "print(type(peso))\n",
    "\n",
    "IMC = peso / (estatura**2)\n",
    "if IMC<18.5:\n",
    "    print(\"bajo peso\")\n",
    "elif IMC < 24.9:\n",
    "    print(\"peso normal\")\n",
    "else:\n",
    "    print(\"sobre peso\")\n",
    "    \n",
    "print(\"Hecho\")"
   ]
  },
  {
   "cell_type": "code",
   "execution_count": 83,
   "metadata": {},
   "outputs": [
    {
     "name": "stdout",
     "output_type": "stream",
     "text": [
      "tanto afirmacion1 como afirmacion2 son verdaderas\n",
      "final\n"
     ]
    }
   ],
   "source": [
    "afirmacion1 = True\n",
    "afirmacion2 = True\n",
    "\n",
    "if afirmacion1:\n",
    "    if afirmacion2:\n",
    "        print(\"tanto afirmacion1 como afirmacion2 son verdaderas\")\n",
    "print(\"final\")"
   ]
  },
  {
   "cell_type": "code",
   "execution_count": 86,
   "metadata": {},
   "outputs": [
    {
     "ename": "IndentationError",
     "evalue": "expected an indented block (<ipython-input-86-6c924104f391>, line 4)",
     "output_type": "error",
     "traceback": [
      "\u001b[1;36m  File \u001b[1;32m\"<ipython-input-86-6c924104f391>\"\u001b[1;36m, line \u001b[1;32m4\u001b[0m\n\u001b[1;33m    print(\"¿qué pasó con las afirmaciones?\")  # esta línea está mal indentada\u001b[0m\n\u001b[1;37m                                                                             ^\u001b[0m\n\u001b[1;31mIndentationError\u001b[0m\u001b[1;31m:\u001b[0m expected an indented block\n"
     ]
    }
   ],
   "source": [
    "# Mala indentación!\n",
    "if afirmacion1:\n",
    "    if afirmacion2:\n",
    "print(\"¿qué pasó con las afirmaciones?\")  # esta línea está mal indentada\n",
    "# observe que no se sabe qué hacer si afirmacion1 es verdadero"
   ]
  },
  {
   "cell_type": "code",
   "execution_count": 87,
   "metadata": {},
   "outputs": [
    {
     "name": "stdout",
     "output_type": "stream",
     "text": [
      "afirmacion1 es verdadera\n",
      "aun estamos dentro del bloque if\n"
     ]
    }
   ],
   "source": [
    "afirmacion1 = True \n",
    "\n",
    "if afirmacion1:\n",
    "    print(\"afirmacion1 es verdadera\")\n",
    "    \n",
    "    print(\"aun estamos dentro del bloque if\")"
   ]
  },
  {
   "cell_type": "code",
   "execution_count": 88,
   "metadata": {},
   "outputs": [
    {
     "name": "stdout",
     "output_type": "stream",
     "text": [
      "afirmacion1 es verdadera\n",
      "ahora estamos fuera del bloque\n"
     ]
    }
   ],
   "source": [
    "if afirmacion1:\n",
    "    print(\"afirmacion1 es verdadera\")\n",
    "    \n",
    "print(\"ahora estamos fuera del bloque\")"
   ]
  },
  {
   "cell_type": "markdown",
   "metadata": {},
   "source": [
    "## Ciclos\n",
    "\n",
    "\n",
    "### For\n",
    "\n",
    "- Itera sobre los elementos de la lista, o algún tipo iterable, suministrada y ejecuta el bloque de programa una vez para cada elemento.\n",
    "- Cualquier tipo de lista puede ser usada para un ciclo `for`. Por ejemplo:"
   ]
  },
  {
   "cell_type": "code",
   "execution_count": 36,
   "metadata": {},
   "outputs": [
    {
     "name": "stdout",
     "output_type": "stream",
     "text": [
      "1\n",
      "w\n",
      "hola\n"
     ]
    }
   ],
   "source": [
    "for x in [1,'w','hola']:\n",
    "    print(x)"
   ]
  },
  {
   "cell_type": "code",
   "execution_count": 3,
   "metadata": {},
   "outputs": [
    {
     "name": "stdout",
     "output_type": "stream",
     "text": [
      "0\n",
      "1\n",
      "2\n",
      "3\n",
      "4\n",
      "5\n",
      "6\n",
      "7\n",
      "8\n",
      "9\n",
      "10\n",
      "11\n",
      "12\n",
      "13\n",
      "14\n"
     ]
    }
   ],
   "source": [
    "for x in range(15): # por defecto range comienza con 0\n",
    "    print(x)"
   ]
  },
  {
   "cell_type": "code",
   "execution_count": 92,
   "metadata": {},
   "outputs": [
    {
     "name": "stdout",
     "output_type": "stream",
     "text": [
      "-3\n",
      "-2\n",
      "-1\n",
      "0\n",
      "1\n",
      "2\n"
     ]
    }
   ],
   "source": [
    "for x in range(-3,3):\n",
    "    print(x)"
   ]
  },
  {
   "cell_type": "code",
   "execution_count": 93,
   "metadata": {},
   "outputs": [
    {
     "name": "stdout",
     "output_type": "stream",
     "text": [
      "Python\n",
      "para\n",
      "programar\n",
      "5\n"
     ]
    }
   ],
   "source": [
    "for palabra in [\"Python\", \"para\", \"programar\", 5]:\n",
    "    print(palabra)"
   ]
  },
  {
   "cell_type": "code",
   "execution_count": 94,
   "metadata": {},
   "outputs": [
    {
     "data": {
      "text/plain": [
       "{'clave1': 'A',\n",
       " 'clave2': False,\n",
       " 'clave3': 'hola',\n",
       " 1: 'algo',\n",
       " 2: [5, 8, 2, 9],\n",
       " 'clave4': 'D'}"
      ]
     },
     "execution_count": 94,
     "metadata": {},
     "output_type": "execute_result"
    }
   ],
   "source": [
    "parametros"
   ]
  },
  {
   "cell_type": "code",
   "execution_count": 95,
   "metadata": {},
   "outputs": [
    {
     "name": "stdout",
     "output_type": "stream",
     "text": [
      "clave1  = A\n",
      "clave2  = False\n",
      "clave3  = hola\n",
      "1  = algo\n",
      "2  = [5, 8, 2, 9]\n",
      "clave4  = D\n"
     ]
    }
   ],
   "source": [
    "for clave, valor in parametros.items():\n",
    "    print(str(clave), \" = \" + str(valor))"
   ]
  },
  {
   "cell_type": "code",
   "execution_count": 96,
   "metadata": {},
   "outputs": [
    {
     "data": {
      "text/plain": [
       "'Hola Mundo'"
      ]
     },
     "execution_count": 96,
     "metadata": {},
     "output_type": "execute_result"
    }
   ],
   "source": [
    "texto1"
   ]
  },
  {
   "cell_type": "code",
   "execution_count": 97,
   "metadata": {},
   "outputs": [
    {
     "name": "stdout",
     "output_type": "stream",
     "text": [
      "H\n",
      "o\n",
      "l\n",
      "a\n",
      " \n",
      "M\n",
      "u\n",
      "n\n",
      "d\n",
      "o\n"
     ]
    }
   ],
   "source": [
    "for letra in texto1:\n",
    "    print(letra)"
   ]
  },
  {
   "cell_type": "markdown",
   "metadata": {},
   "source": [
    "Si se requiere conocer los índices de los valores mientras se itera sobre una lista se usa la función `enumerate`:"
   ]
  },
  {
   "cell_type": "code",
   "execution_count": 98,
   "metadata": {},
   "outputs": [
    {
     "name": "stdout",
     "output_type": "stream",
     "text": [
      "0 -3\n",
      "1 -2\n",
      "2 -1\n",
      "3 0\n",
      "4 1\n",
      "5 2\n"
     ]
    }
   ],
   "source": [
    "for idx, x in enumerate(range(-3,3)):\n",
    "    print(idx, x)"
   ]
  },
  {
   "cell_type": "code",
   "execution_count": 99,
   "metadata": {},
   "outputs": [
    {
     "name": "stdout",
     "output_type": "stream",
     "text": [
      "0 H\n",
      "1 o\n",
      "2 l\n",
      "3 a\n",
      "4  \n",
      "5 M\n",
      "6 u\n",
      "7 n\n",
      "8 d\n",
      "9 o\n"
     ]
    }
   ],
   "source": [
    "for idx, x in enumerate(texto1):\n",
    "    print(idx, x)"
   ]
  },
  {
   "cell_type": "markdown",
   "metadata": {},
   "source": [
    "Una forma conveniente y compacta de inicializar una lista es:"
   ]
  },
  {
   "cell_type": "code",
   "execution_count": 100,
   "metadata": {},
   "outputs": [
    {
     "name": "stdout",
     "output_type": "stream",
     "text": [
      "[0, 1, 4, 9, 16]\n"
     ]
    }
   ],
   "source": [
    "lista_cuadrados = [x**2 for x in range(0,5)]\n",
    "\n",
    "print(lista_cuadrados)"
   ]
  },
  {
   "cell_type": "markdown",
   "metadata": {},
   "source": [
    "### While\n",
    "\n",
    "- Itera  siempre que se cumpla una condición y ejecuta el bloque de programa una vez para cada elemento.\n",
    "\n",
    "Por ejemplo:"
   ]
  },
  {
   "cell_type": "code",
   "execution_count": 4,
   "metadata": {},
   "outputs": [
    {
     "name": "stdout",
     "output_type": "stream",
     "text": [
      "0\n",
      "0.1\n",
      "0.2\n",
      "0.30000000000000004\n",
      "0.4\n",
      "0.5\n",
      "0.6\n",
      "0.7\n",
      "0.7999999999999999\n",
      "0.8999999999999999\n",
      "0.9999999999999999\n",
      "1.0999999999999999\n",
      "1.2\n",
      "1.3\n",
      "1.4000000000000001\n",
      "1.5000000000000002\n",
      "1.6000000000000003\n",
      "1.7000000000000004\n",
      "1.8000000000000005\n",
      "1.9000000000000006\n",
      "2.0000000000000004\n",
      "2.1000000000000005\n",
      "2.2000000000000006\n",
      "2.3000000000000007\n",
      "2.400000000000001\n",
      "2.500000000000001\n",
      "2.600000000000001\n",
      "2.700000000000001\n",
      "2.800000000000001\n",
      "2.9000000000000012\n",
      "terminó el ciclo\n"
     ]
    }
   ],
   "source": [
    "i = 0                     # inicializa el valor i en 0\n",
    "\n",
    "while i < 3:              # ejecuta el bloque siempre que se cumpla la condición\n",
    "    print(i)              # imprime en pantalla el valor de i\n",
    "    i = i + 0.1             # actualiza el valor de i\n",
    "    \n",
    "print(\"terminó el ciclo\")  # esta fuera del ciclo"
   ]
  },
  {
   "cell_type": "markdown",
   "metadata": {},
   "source": [
    "## Funciones definidas por el programador\n",
    "\n",
    "- Una función se define con la palabra clave `def`, el nombre de la función y las argumentos de entrada.\n",
    "- La sintaxis para definir la función `func0` es `def func0(arg1,arg2,arg3,...):`\n",
    "- Puede ser que las funciones no tengan variables de entrada."
   ]
  },
  {
   "cell_type": "code",
   "execution_count": 5,
   "metadata": {},
   "outputs": [],
   "source": [
    "def func0():            # los : terminan de definir la función\n",
    "    print(\"test otra vez\")       # el bloque indentado es el código de la función"
   ]
  },
  {
   "cell_type": "code",
   "execution_count": 6,
   "metadata": {},
   "outputs": [
    {
     "name": "stdout",
     "output_type": "stream",
     "text": [
      "test otra vez\n"
     ]
    }
   ],
   "source": [
    "func0()"
   ]
  },
  {
   "cell_type": "markdown",
   "metadata": {},
   "source": [
    "Se pueden incluir textos de ayuda para las funciones con `\"\"\" la ayuda en varias lineas \"\"\"`"
   ]
  },
  {
   "cell_type": "code",
   "execution_count": 8,
   "metadata": {},
   "outputs": [],
   "source": [
    "def func1(s):\n",
    "    \"\"\"\n",
    "    Imprime el string 's' y cuántos caracteres tiene\n",
    "    \"\"\"\n",
    "    \n",
    "    print(s + \" tiene \" + str(len(s)) + \" caracteres\")"
   ]
  },
  {
   "cell_type": "code",
   "execution_count": 9,
   "metadata": {},
   "outputs": [
    {
     "name": "stdout",
     "output_type": "stream",
     "text": [
      "Help on function func1 in module __main__:\n",
      "\n",
      "func1(s)\n",
      "    Imprime el string 's' y cuántos caracteres tiene\n",
      "\n"
     ]
    }
   ],
   "source": [
    "help(func1)"
   ]
  },
  {
   "cell_type": "code",
   "execution_count": 11,
   "metadata": {},
   "outputs": [
    {
     "name": "stdout",
     "output_type": "stream",
     "text": [
      "testimoooooooonio tiene 17 caracteres\n"
     ]
    }
   ],
   "source": [
    "func1(\"testimoooooooonio\")"
   ]
  },
  {
   "cell_type": "markdown",
   "metadata": {},
   "source": [
    "Para que las funciones entreguen un resultado se usa la palabra clave `return`:"
   ]
  },
  {
   "cell_type": "code",
   "execution_count": 12,
   "metadata": {},
   "outputs": [],
   "source": [
    "def cuadrado(x):\n",
    "    \"\"\"\n",
    "    Calcula el cuadrado de x.\n",
    "    \"\"\"\n",
    "    h = x**2\n",
    "    return h"
   ]
  },
  {
   "cell_type": "code",
   "execution_count": 13,
   "metadata": {},
   "outputs": [
    {
     "data": {
      "text/plain": [
       "(-8+6j)"
      ]
     },
     "execution_count": 13,
     "metadata": {},
     "output_type": "execute_result"
    }
   ],
   "source": [
    "a = cuadrado(1+3j)\n",
    "a"
   ]
  },
  {
   "cell_type": "code",
   "execution_count": 18,
   "metadata": {},
   "outputs": [
    {
     "name": "stdout",
     "output_type": "stream",
     "text": [
      "Help on function cuadrado in module __main__:\n",
      "\n",
      "cuadrado(x)\n",
      "    Calcula el cuadrado de x.\n",
      "\n"
     ]
    }
   ],
   "source": [
    "help(cuadrado)"
   ]
  },
  {
   "cell_type": "code",
   "execution_count": 19,
   "metadata": {},
   "outputs": [],
   "source": [
    "def potencias(x):\n",
    "    \"\"\"\n",
    "    Calcula algunas potencias de x.\n",
    "    \"\"\"\n",
    "    return x**2, x**3, x**4"
   ]
  },
  {
   "cell_type": "code",
   "execution_count": 20,
   "metadata": {},
   "outputs": [
    {
     "data": {
      "text/plain": [
       "(9, 27, 81)"
      ]
     },
     "execution_count": 20,
     "metadata": {},
     "output_type": "execute_result"
    }
   ],
   "source": [
    "potencias(3)"
   ]
  },
  {
   "cell_type": "code",
   "execution_count": 21,
   "metadata": {},
   "outputs": [
    {
     "name": "stdout",
     "output_type": "stream",
     "text": [
      "27\n"
     ]
    }
   ],
   "source": [
    "x2, x3, x4 = potencias(3)\n",
    "\n",
    "print(x3)"
   ]
  },
  {
   "cell_type": "markdown",
   "metadata": {},
   "source": [
    "### Argumentos por defecto y argumentos de palabra clave\n",
    "\n",
    "En la definición de una función pueden incluirse valores por defecto a los argumentos de la función:"
   ]
  },
  {
   "cell_type": "code",
   "execution_count": 1,
   "metadata": {},
   "outputs": [],
   "source": [
    "def mifunc(x, p=2, debug=False):      # la función tiene 3 argumentos de entrada y 2 tienen valores por defecto\n",
    "    if debug:\n",
    "        print(\"evaluando mifunc para x = \" + str(x) + \" usando el exponente p = \" + str(p))\n",
    "        return x**p\n",
    "    else:\n",
    "        return p**x"
   ]
  },
  {
   "cell_type": "code",
   "execution_count": 3,
   "metadata": {},
   "outputs": [
    {
     "name": "stdout",
     "output_type": "stream",
     "text": [
      "evaluando mifunc para x = 3 usando el exponente p = 5\n"
     ]
    },
    {
     "data": {
      "text/plain": [
       "243"
      ]
     },
     "execution_count": 3,
     "metadata": {},
     "output_type": "execute_result"
    }
   ],
   "source": [
    "mifunc(3,5,True)                    # solamente se entrega el primer argumento a la función "
   ]
  },
  {
   "cell_type": "code",
   "execution_count": 25,
   "metadata": {},
   "outputs": [
    {
     "data": {
      "text/plain": [
       "64"
      ]
     },
     "execution_count": 25,
     "metadata": {},
     "output_type": "execute_result"
    }
   ],
   "source": [
    "mifunc(4, 3)                 # se entregan los dos primeros argumentos a la función"
   ]
  },
  {
   "cell_type": "code",
   "execution_count": 26,
   "metadata": {},
   "outputs": [
    {
     "data": {
      "text/plain": [
       "81"
      ]
     },
     "execution_count": 26,
     "metadata": {},
     "output_type": "execute_result"
    }
   ],
   "source": [
    "mifunc(x = 3, p = 4)         # se especifica el nombre interno de las variables"
   ]
  },
  {
   "cell_type": "code",
   "execution_count": 27,
   "metadata": {},
   "outputs": [
    {
     "data": {
      "text/plain": [
       "81"
      ]
     },
     "execution_count": 27,
     "metadata": {},
     "output_type": "execute_result"
    }
   ],
   "source": [
    "mifunc(p = 4, x = 3)         # se especifica el nombre interno de las variables.\n",
    "                             #Note que de esta forma el orden no es relevante"
   ]
  },
  {
   "cell_type": "code",
   "execution_count": 28,
   "metadata": {},
   "outputs": [
    {
     "name": "stdout",
     "output_type": "stream",
     "text": [
      "evaluando mifunc para x = 7 usando el exponente p = 3\n"
     ]
    },
    {
     "data": {
      "text/plain": [
       "343"
      ]
     },
     "execution_count": 28,
     "metadata": {},
     "output_type": "execute_result"
    }
   ],
   "source": [
    "mifunc(p=3, debug=True, x=7)"
   ]
  },
  {
   "cell_type": "markdown",
   "metadata": {},
   "source": [
    "## Help"
   ]
  },
  {
   "cell_type": "markdown",
   "metadata": {},
   "source": [
    "La función `help` ofrece una descripción de la mayoría de funciones y módulos."
   ]
  },
  {
   "cell_type": "code",
   "execution_count": null,
   "metadata": {},
   "outputs": [],
   "source": [
    "help(print)"
   ]
  },
  {
   "cell_type": "markdown",
   "metadata": {},
   "source": [
    "También usar la función `help` directamente sobre los módulos: \n",
    "\n",
    "    help(numpy) \n",
    "\n",
    "Algunos módulos muy útiles son:\n",
    "- `os` (interfaz con el sistema operativo)\n",
    "- `sys` (Parámetros y funciones específicas del sistema)\n",
    "- `math` (funciones matemáticas)\n",
    "- `shutil` (operaciones con archivos)\n",
    "- [Numpy](http://www.numpy.org/): Uso eficiente de arreglos numéricos multidimensionales (vectores, matrices, etc.).\n",
    "- [Scipy](http://www.scipy.org/): Funciones especiales, algoritmos de integración numérica, optimización, interpolación, transformada de Fourier, procesamiento de señales, álgebra lineal, estadística, procesamiento de imágenes, entre otras. Este módulo hace uso de Numpy.\n",
    "- [Matplotlib](http://matplotlib.org/): Herramientas para crear gráficos bidimensionales en diversos formatos, y en una calidad adecuada para incluirlos en publicaciones científicas.\n",
    "- [Sympy](http://sympy.org/):Algoritmos de matemática simbólica.\n",
    " \n",
    "ETC"
   ]
  },
  {
   "cell_type": "markdown",
   "metadata": {},
   "source": [
    "## Lectura adicional\n",
    "\n",
    "* [http://www.python.org](http://www.python.org) - The official web page of the Python programming language.\n",
    "* [http://www.python.org/dev/peps/pep-0008](http://www.python.org/dev/peps/pep-0008) - Guía de estilo para la programación en Python. Altamente recomendada (en inglés).\n",
    "* [http://www.greenteapress.com/thinkpython/](http://www.greenteapress.com/thinkpython/) - Un libro gratuito sobre Python.\n",
    "* [Python Essential Reference](http://www.amazon.com/Python-Essential-Reference-4th-Edition/dp/0672329786) - Un buen libro de referencia sobre programación en Python."
   ]
  },
  {
   "cell_type": "markdown",
   "metadata": {},
   "source": [
    "### Versiones"
   ]
  },
  {
   "cell_type": "code",
   "execution_count": null,
   "metadata": {},
   "outputs": [],
   "source": [
    "import sys\n",
    "import IPython"
   ]
  },
  {
   "cell_type": "code",
   "execution_count": null,
   "metadata": {},
   "outputs": [],
   "source": [
    "print(\"Este notebook fue evaluado con: Python %s y IPython %s.\" % (sys.version, IPython.__version__))"
   ]
  },
  {
   "cell_type": "code",
   "execution_count": null,
   "metadata": {},
   "outputs": [],
   "source": []
  },
  {
   "cell_type": "code",
   "execution_count": null,
   "metadata": {},
   "outputs": [],
   "source": []
  }
 ],
 "metadata": {
  "anaconda-cloud": {},
  "kernelspec": {
   "display_name": "Python 3 (ipykernel)",
   "language": "python",
   "name": "python3"
  },
  "language_info": {
   "codemirror_mode": {
    "name": "ipython",
    "version": 3
   },
   "file_extension": ".py",
   "mimetype": "text/x-python",
   "name": "python",
   "nbconvert_exporter": "python",
   "pygments_lexer": "ipython3",
   "version": "3.11.3"
  },
  "latex_envs": {
   "bibliofile": "biblio.bib",
   "cite_by": "apalike",
   "current_citInitial": 1,
   "eqLabelWithNumbers": true,
   "eqNumInitial": 0
  },
  "varInspector": {
   "cols": {
    "lenName": 16,
    "lenType": 16,
    "lenVar": 40
   },
   "kernels_config": {
    "python": {
     "delete_cmd_postfix": "",
     "delete_cmd_prefix": "del ",
     "library": "var_list.py",
     "varRefreshCmd": "print(var_dic_list())"
    },
    "r": {
     "delete_cmd_postfix": ") ",
     "delete_cmd_prefix": "rm(",
     "library": "var_list.r",
     "varRefreshCmd": "cat(var_dic_list()) "
    }
   },
   "types_to_exclude": [
    "module",
    "function",
    "builtin_function_or_method",
    "instance",
    "_Feature"
   ],
   "window_display": false
  }
 },
 "nbformat": 4,
 "nbformat_minor": 1
}
