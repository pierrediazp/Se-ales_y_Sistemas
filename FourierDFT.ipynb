{
 "cells": [
  {
   "cell_type": "code",
   "execution_count": 1,
   "id": "cf2031b9",
   "metadata": {},
   "outputs": [],
   "source": [
    "import sympy as sym\n",
    "import numpy as np\n",
    "\n",
    "import matplotlib.pyplot as plt\n",
    "%matplotlib inline\n",
    "sym.init_printing()\n",
    "\n",
    "Omega = sym.symbols('Omega', real=True)\n",
    "k = sym.symbols('k', integer=True)\n"
   ]
  },
  {
   "cell_type": "markdown",
   "id": "b6d37252",
   "metadata": {},
   "source": [
    "# Transformada discreta de Fourier\n",
    "\n",
    "\n",
    "La [Transformada discreta de Fourier](https://en.wikipedia.org/wiki/Discrete_Fourier_transform) (DFT) de una señal discreta $x[k]$ se define como:\n",
    "\n",
    "\\begin{equation}\n",
    "X[\\mu] = \\sum_{k=0}^{N-1} x[k] \\; e^{-j \\mu \\frac{2 \\pi}{N} k}\n",
    "\\end{equation}\n",
    "\n",
    "Donde $N \\in \\mathbb{N}$ es el tamaño de la DFT y $\\mu \\in \\mathbb{Z}$ es la frecuencia discreta. \n",
    "La DFT relaciona una señal discreta $x[k]$ con su espectro discreto $X[\\mu] = \\text{DFT}_N \\{ x[k] \\}$. \n",
    "Como $e^{-j \\mu \\frac{2 \\pi}{N} k}$ tiene periodo $N$ respecto a la frecuencia discreta $\\mu$, el espectro $X[\\mu]$ también tiene periodo $N$.\n",
    "\n",
    "\\begin{equation}\n",
    "X[\\mu] = X[\\mu + \\nu N] \\; \\forall \\nu \\in \\mathbb{Z}\n",
    "\\end{equation}\n",
    "\n",
    "Por lo anterior, solo es necesario analizar el espectro en el rango $\\mu = 0,1, \\dots, N-1$.\n",
    "\n",
    "Para los instantes $k = 0,1, \\dots, N-1$, la transformada inversa (IDFT) se define como:\n",
    "\n",
    "\\begin{equation}\n",
    "x[k] = \\frac{1}{N} \\sum_{\\mu=0}^{N-1} X[\\mu] \\; e^{j \\mu \\frac{2 \\pi}{N} k}\n",
    "\\end{equation}\n",
    "\n",
    "Como $e^{j \\mu \\frac{2 \\pi}{N} k}$ (IDFT) es periodica  respecto al instante discreto $k$, $x[k] = \\text{IDFT}_M \\{ X[\\mu] \\}$ tiene periodo $N$.\n",
    "\n",
    "\\begin{equation}\n",
    "x[k] = x[k + \\nu N]\n",
    "\\end{equation}\n",
    "\n"
   ]
  },
  {
   "cell_type": "markdown",
   "id": "f426e570",
   "metadata": {},
   "source": [
    "## Relación con la transformada de Fourier de tiempo discreto\n",
    "\n",
    "- La transformada de Fourier de tiempo discreto (DTFT) $X(e^{j \\Omega}) = \\mathcal{F}_* \\{ x[k] \\}$ de una señal causa y duración finita $x[k] = 0$ para $k \\in \\mathbb{Z} \\setminus \\{0,1,\\dots, N-1 \\}$ es continua respecto a la frecuencia normalizada $\\Omega$.\n",
    "\n",
    "- La DFT transformada discreta de Fourier $X[\\mu]$ de la misma señal es discreta. \n",
    "\n",
    "Analizando las expresiones para las transformadas se puede encontrar relación entre ellas.\n",
    "\n",
    "DFT\n",
    "\\begin{equation}\n",
    "X[\\mu] = \\sum_{k=0}^{N-1} x[k] \\; e^{-j \\mu \\frac{2 \\pi}{N} k}\n",
    "\\end{equation}\n",
    "\n",
    "DTFT\n",
    "\\begin{equation}\n",
    "X(e^{j \\Omega}) = \\sum_{k = -\\infty}^{\\infty} x[k] \\, e^{-j \\Omega k}\n",
    "\\end{equation}\n",
    "\n",
    "Las dos transformadas son iguales si se cumple una condición:\n",
    "\\begin{equation}\n",
    "X[\\mu] = X(e^{j \\Omega}) \\big\\rvert_{\\Omega = \\mu \\frac{2 \\pi}{N}}\n",
    "\\end{equation}\n",
    "\n",
    "Es decir, la DFT $X[\\mu]$ de una señal discreta de duración finita $x[k]$ puede obtenerse al tomar muestras de la DTFT $X(e^{j \\Omega})$ en $\\Omega = \\mu \\frac{2 \\pi}{N}$. \n",
    "\n",
    "La figura siguiente muestra una señal de tiempo discreto y duración finita $x[k]$. Esta señal se relaciona, en el dominio de la frecuencia, con el espectro $X(e^{j\\Omega})$ que se encuentra con la DTFT. Observe que el periodo del espectro es $2\\pi$.\n",
    "\n",
    "![DTFT of a discrete signal of finite length](figuras/DTFT_finite_length_signal.png)\n",
    "\n",
    "A partir del espectro $X(e^{j\\Omega})$ se toman muestras para obtener una versión discreta del espectro $X_p(e^{j\\Omega})$, la cuál es equivalente a la DFT. A partir del espectro $X_p(e^{j\\Omega})$ se recupera una señal periódica de tiempo discreto $x_p[k]$ que tiene periodo $N$. \n",
    "\n",
    "![DTFT of the periodic continuation of a discrete signal of finite length](figuras/DTFT_periodic_continuation.png) \n",
    "\n",
    "Observe que la señal $x[k]$ es igual a $x_p[k]$ dentro del periodo de duración inicial de $x[k]$. De acuerdo con lo antes expuesto, la información completa de la señal $x[k]$ está en un solo periodo de su espectro."
   ]
  },
  {
   "cell_type": "code",
   "execution_count": null,
   "id": "dc013c66",
   "metadata": {},
   "outputs": [],
   "source": []
  }
 ],
 "metadata": {
  "kernelspec": {
   "display_name": "Python 3 (ipykernel)",
   "language": "python",
   "name": "python3"
  },
  "language_info": {
   "codemirror_mode": {
    "name": "ipython",
    "version": 3
   },
   "file_extension": ".py",
   "mimetype": "text/x-python",
   "name": "python",
   "nbconvert_exporter": "python",
   "pygments_lexer": "ipython3",
   "version": "3.10.9"
  },
  "latex_envs": {
   "bibliofile": "biblio.bib",
   "cite_by": "apalike",
   "current_citInitial": 1,
   "eqLabelWithNumbers": true,
   "eqNumInitial": 0
  }
 },
 "nbformat": 4,
 "nbformat_minor": 5
}
