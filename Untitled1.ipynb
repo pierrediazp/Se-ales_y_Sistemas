{
 "cells": [
  {
   "cell_type": "code",
   "execution_count": 31,
   "id": "cc58a69a",
   "metadata": {},
   "outputs": [],
   "source": [
    "set1 = {True,False,'true','True',1,0,'false','False'}"
   ]
  },
  {
   "cell_type": "code",
   "execution_count": 32,
   "id": "0100a033",
   "metadata": {},
   "outputs": [
    {
     "name": "stdout",
     "output_type": "stream",
     "text": [
      "False tiene tipo <class 'bool'>\n",
      "True tiene tipo <class 'bool'>\n",
      "true tiene tipo <class 'str'>\n",
      "True tiene tipo <class 'str'>\n",
      "false tiene tipo <class 'str'>\n",
      "False tiene tipo <class 'str'>\n",
      "este es el conjunto {False, True, 'true', 'True', 'false', 'False'} y tiene 6 elementos\n"
     ]
    }
   ],
   "source": [
    "for elemento in set1:\n",
    "    print(f'{elemento} tiene tipo {type(elemento)}')\n",
    "print(f'este es el conjunto {set1} y tiene {len(set1)} elementos')"
   ]
  },
  {
   "cell_type": "code",
   "execution_count": null,
   "id": "323b0eed",
   "metadata": {},
   "outputs": [],
   "source": []
  }
 ],
 "metadata": {
  "kernelspec": {
   "display_name": "Python 3 (ipykernel)",
   "language": "python",
   "name": "python3"
  },
  "language_info": {
   "codemirror_mode": {
    "name": "ipython",
    "version": 3
   },
   "file_extension": ".py",
   "mimetype": "text/x-python",
   "name": "python",
   "nbconvert_exporter": "python",
   "pygments_lexer": "ipython3",
   "version": "3.11.3"
  }
 },
 "nbformat": 4,
 "nbformat_minor": 5
}
